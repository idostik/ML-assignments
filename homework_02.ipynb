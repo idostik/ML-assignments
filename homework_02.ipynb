{
 "cells": [
  {
   "cell_type": "markdown",
   "metadata": {},
   "source": [
    "# Úkol č. 2 - Využití neuronových sítí\n",
    "\n",
    "  * **Deadline je do 18. 5. 2023, 23:59:59**, pokud odevzdáte úkol do 24. 5. 2023, 23:59:59, budete penalizování -12 body, pozdější odevzdání je bez bodu.\n",
    "  * V rámci tohoto úkolu musíte sestrojit vhodný model neuronové sítě pro vícetřídou klasifikaci.\n",
    "  * Část bodů získáte za správné vypracování a část bodů získáte za výslednou přesnost Vašeho modelu na evaluačních datech.\n",
    "    \n",
    "> **Úkoly jsou zadány tak, aby Vám daly prostor pro invenci. Vymyslet _jak přesně_ budete úkol řešit, je důležitou součástí zadání a originalita či nápaditost bude také hodnocena!**\n",
    "\n",
    "Využívejte buňky typu `Markdown` k vysvětlování Vašeho postupu. Za nepřehlednost budou strhávány body.\n",
    "\n",
    "## Zdroj dat\n",
    "\n",
    " * Zdrojem dat jsou soubory `train.csv` a `evaluate.csv`.\n",
    " * Jedná se o obrázky 32x32 pixelů ve stupních šedi, které byly nějakým způsobem vyrobeny z [Fashion Mnist datasetu](https://www.kaggle.com/datasets/zalando-research/fashionmnist).\n",
    " * Soubor `train.csv` obsahuje trénovací data.\n",
    " * Cílová (vysvětlovaná) proměnná se jmenuje **label**.\n",
    " * Soubor `evaluate.csv` obsahuje testovací data bez hodnot skutečných labelů.\n",
    "\n",
    "## Pokyny k vypracování (max 18 bodů)\n",
    "\n",
    "**Body zadání**, za jejichž (poctivé) vypracování získáte **18 bodů**:\n",
    "  * V notebooku načtěte data ze souboru `train.csv`. Vhodným způsobem si je rozdělte na podmnožiny, které Vám poslouží pro trénování, porovnávání modelů a následnou predikci výkonnosti finálního modelu.\n",
    "  * Proveďte základní průzkum dat a svá pozorování diskutujte. Některé obrázky také zobrazte.\n",
    "  * Sestrojte a natrénujte několik variant modelu dopředné neuronové sítě. Přitom v rámci výpočetních možností:\n",
    "      * Okomentujte vhodnost daného modelu pro daný typ úlohy.\n",
    "      * Experimentujte s různými hloubkami a velikosmi vrstev.\n",
    "      * Experimentujte se standardizací/normalizací dat.\n",
    "      * Experimentujte s různými optimalizačními metodami.\n",
    "      * Experimentujte s různými regularizačními technikami.\n",
    "      * Získané výsledky vždy řádně okomentujte.\n",
    "\n",
    "  * Sestrojte model konvoluční neuronové sítě. Přitom v rámci výpočetních možností:\n",
    "      * Okomentujte vhodnost daného modelu pro daný typ úlohy.\n",
    "      * Experimentujte s různými hloubkami a velikosmi vrstev.\n",
    "      * Experimentujte se standardizací/normalizací dat.\n",
    "      * Experimentujte s různými optimalizačními metodami.\n",
    "      * Experimentujte s různými regularizačními technikami.\n",
    "      * Získané výsledky vždy řádně okomentujte.\n",
    "    \n",
    "  * Ze všech zkoušených možností vyberte finální model a odhadněte, jakou přesnost můžete očekávat na nových datech, která jste doposud neměli k dispozici.\n",
    "  \n",
    "  * Nakonec načtěte vyhodnocovací data ze souboru`evaluate.csv`. Pomocí finálního modelu napočítejte predikce pro tyto data (vysvětlovaná proměnná v nich již není). Vytvořte soubor `results.csv`, ve kterém získané predikce uložíte do dvou sloupců: **ID**, **predikce labelu**. Tento soubor též odevzdejte (uložte do projektu vedle notebooku).\n",
    "   \n",
    "   * Ukázka prvních řádků souboru `results.csv`:\n",
    "  \n",
    "```\n",
    "ID,label\n",
    "0,0\n",
    "1,1\n",
    "...\n",
    "```\n",
    "\n",
    "## Vyhodnocovací část (max 7 bodů)\n",
    "Za přesnost (accuraccy) na odevzdaných predikcích pro vyhodnocovací množnu získáte dalších max **7 bodů**.\n",
    "\n",
    "Označíme-li $A$ přesnost, které jste dosáhli, zaokrouhlenou na 2 desetinná místa, akumulují se výsledné body podle následujících pravidel:\n",
    "* pokud $A \\geq 0.80$ obdržíte +1 bod\n",
    "* pokud $A \\geq 0.83$ obdržíte +1 bod\n",
    "* pokud $A \\geq 0.86$ obdržíte +1 bod\n",
    "* pokud $A \\geq 0.87$ obdržíte +1 bod\n",
    "* pokud $A \\geq 0.88$ obdržíte +1 bod\n",
    "* pokud $A \\geq 0.89$ obdržíte +1 bod\n",
    "* pokud $A \\geq 0.90$ obdržíte +1 bod\n",
    "\n",
    "**Příklad:** Pokud bude Vaše přesnost 0.856, vyjde A = 0.86 a vy získáte 3 body.\n",
    "\n",
    "\n",
    "## Poznámky k odevzdání\n",
    "\n",
    "  * Řiďte se pokyny ze stránky https://courses.fit.cvut.cz/BI-ML2/homeworks/index.html.\n",
    "  * Vytvořte i csv soubor `results.csv` s predikcemi a uložte ho v rámci projektu vedle ipython notebooku."
   ]
  },
  {
   "cell_type": "markdown",
   "metadata": {},
   "source": [
    "# Zpracování\n",
    "\n",
    "## Průzkum dat"
   ]
  },
  {
   "cell_type": "code",
   "execution_count": 425,
   "metadata": {},
   "outputs": [],
   "source": [
    "from tqdm import tqdm\n",
    "\n",
    "import numpy as np\n",
    "import pandas as pd\n",
    "from matplotlib import pyplot as plt\n",
    "import sklearn\n",
    "\n",
    "import torch\n",
    "from torch.utils.data import DataLoader\n",
    "from torch import nn\n",
    "import torch.nn.functional as F\n",
    "import torchvision\n",
    "\n",
    "#path, where best model will be later saved\n",
    "MODEL_PATH = \"saves/best_model1.pt\""
   ]
  },
  {
   "cell_type": "markdown",
   "metadata": {},
   "source": [
    "Načtu si data a udělám stručný průzkum."
   ]
  },
  {
   "cell_type": "code",
   "execution_count": 426,
   "metadata": {},
   "outputs": [],
   "source": [
    "df = pd.read_csv('train.csv')"
   ]
  },
  {
   "cell_type": "code",
   "execution_count": 427,
   "metadata": {},
   "outputs": [
    {
     "data": {
      "text/html": [
       "<div>\n",
       "<style scoped>\n",
       "    .dataframe tbody tr th:only-of-type {\n",
       "        vertical-align: middle;\n",
       "    }\n",
       "\n",
       "    .dataframe tbody tr th {\n",
       "        vertical-align: top;\n",
       "    }\n",
       "\n",
       "    .dataframe thead th {\n",
       "        text-align: right;\n",
       "    }\n",
       "</style>\n",
       "<table border=\"1\" class=\"dataframe\">\n",
       "  <thead>\n",
       "    <tr style=\"text-align: right;\">\n",
       "      <th></th>\n",
       "      <th>pix1</th>\n",
       "      <th>pix2</th>\n",
       "      <th>pix3</th>\n",
       "      <th>pix4</th>\n",
       "      <th>pix5</th>\n",
       "      <th>pix6</th>\n",
       "      <th>pix7</th>\n",
       "      <th>pix8</th>\n",
       "      <th>pix9</th>\n",
       "      <th>pix10</th>\n",
       "      <th>...</th>\n",
       "      <th>pix1016</th>\n",
       "      <th>pix1017</th>\n",
       "      <th>pix1018</th>\n",
       "      <th>pix1019</th>\n",
       "      <th>pix1020</th>\n",
       "      <th>pix1021</th>\n",
       "      <th>pix1022</th>\n",
       "      <th>pix1023</th>\n",
       "      <th>pix1024</th>\n",
       "      <th>label</th>\n",
       "    </tr>\n",
       "  </thead>\n",
       "  <tbody>\n",
       "    <tr>\n",
       "      <th>0</th>\n",
       "      <td>1</td>\n",
       "      <td>1</td>\n",
       "      <td>1</td>\n",
       "      <td>1</td>\n",
       "      <td>1</td>\n",
       "      <td>1</td>\n",
       "      <td>1</td>\n",
       "      <td>1</td>\n",
       "      <td>1</td>\n",
       "      <td>1</td>\n",
       "      <td>...</td>\n",
       "      <td>1</td>\n",
       "      <td>1</td>\n",
       "      <td>1</td>\n",
       "      <td>1</td>\n",
       "      <td>1</td>\n",
       "      <td>1</td>\n",
       "      <td>1</td>\n",
       "      <td>1</td>\n",
       "      <td>1</td>\n",
       "      <td>7</td>\n",
       "    </tr>\n",
       "    <tr>\n",
       "      <th>1</th>\n",
       "      <td>4</td>\n",
       "      <td>4</td>\n",
       "      <td>4</td>\n",
       "      <td>4</td>\n",
       "      <td>4</td>\n",
       "      <td>4</td>\n",
       "      <td>5</td>\n",
       "      <td>5</td>\n",
       "      <td>5</td>\n",
       "      <td>6</td>\n",
       "      <td>...</td>\n",
       "      <td>4</td>\n",
       "      <td>4</td>\n",
       "      <td>4</td>\n",
       "      <td>4</td>\n",
       "      <td>4</td>\n",
       "      <td>4</td>\n",
       "      <td>4</td>\n",
       "      <td>4</td>\n",
       "      <td>4</td>\n",
       "      <td>0</td>\n",
       "    </tr>\n",
       "    <tr>\n",
       "      <th>2</th>\n",
       "      <td>0</td>\n",
       "      <td>0</td>\n",
       "      <td>0</td>\n",
       "      <td>0</td>\n",
       "      <td>0</td>\n",
       "      <td>0</td>\n",
       "      <td>0</td>\n",
       "      <td>0</td>\n",
       "      <td>0</td>\n",
       "      <td>0</td>\n",
       "      <td>...</td>\n",
       "      <td>0</td>\n",
       "      <td>0</td>\n",
       "      <td>0</td>\n",
       "      <td>0</td>\n",
       "      <td>0</td>\n",
       "      <td>0</td>\n",
       "      <td>0</td>\n",
       "      <td>0</td>\n",
       "      <td>0</td>\n",
       "      <td>6</td>\n",
       "    </tr>\n",
       "    <tr>\n",
       "      <th>3</th>\n",
       "      <td>2</td>\n",
       "      <td>2</td>\n",
       "      <td>2</td>\n",
       "      <td>2</td>\n",
       "      <td>2</td>\n",
       "      <td>2</td>\n",
       "      <td>2</td>\n",
       "      <td>2</td>\n",
       "      <td>2</td>\n",
       "      <td>2</td>\n",
       "      <td>...</td>\n",
       "      <td>2</td>\n",
       "      <td>2</td>\n",
       "      <td>2</td>\n",
       "      <td>2</td>\n",
       "      <td>2</td>\n",
       "      <td>2</td>\n",
       "      <td>2</td>\n",
       "      <td>2</td>\n",
       "      <td>2</td>\n",
       "      <td>3</td>\n",
       "    </tr>\n",
       "    <tr>\n",
       "      <th>4</th>\n",
       "      <td>0</td>\n",
       "      <td>0</td>\n",
       "      <td>0</td>\n",
       "      <td>0</td>\n",
       "      <td>0</td>\n",
       "      <td>0</td>\n",
       "      <td>0</td>\n",
       "      <td>0</td>\n",
       "      <td>0</td>\n",
       "      <td>0</td>\n",
       "      <td>...</td>\n",
       "      <td>0</td>\n",
       "      <td>0</td>\n",
       "      <td>0</td>\n",
       "      <td>0</td>\n",
       "      <td>0</td>\n",
       "      <td>0</td>\n",
       "      <td>0</td>\n",
       "      <td>0</td>\n",
       "      <td>0</td>\n",
       "      <td>3</td>\n",
       "    </tr>\n",
       "  </tbody>\n",
       "</table>\n",
       "<p>5 rows × 1025 columns</p>\n",
       "</div>"
      ],
      "text/plain": [
       "   pix1  pix2  pix3  pix4  pix5  pix6  pix7  pix8  pix9  pix10  ...  pix1016  \\\n",
       "0     1     1     1     1     1     1     1     1     1      1  ...        1   \n",
       "1     4     4     4     4     4     4     5     5     5      6  ...        4   \n",
       "2     0     0     0     0     0     0     0     0     0      0  ...        0   \n",
       "3     2     2     2     2     2     2     2     2     2      2  ...        2   \n",
       "4     0     0     0     0     0     0     0     0     0      0  ...        0   \n",
       "\n",
       "   pix1017  pix1018  pix1019  pix1020  pix1021  pix1022  pix1023  pix1024  \\\n",
       "0        1        1        1        1        1        1        1        1   \n",
       "1        4        4        4        4        4        4        4        4   \n",
       "2        0        0        0        0        0        0        0        0   \n",
       "3        2        2        2        2        2        2        2        2   \n",
       "4        0        0        0        0        0        0        0        0   \n",
       "\n",
       "   label  \n",
       "0      7  \n",
       "1      0  \n",
       "2      6  \n",
       "3      3  \n",
       "4      3  \n",
       "\n",
       "[5 rows x 1025 columns]"
      ]
     },
     "metadata": {},
     "output_type": "display_data"
    },
    {
     "name": "stdout",
     "output_type": "stream",
     "text": [
      "Shape: (56000, 1025)\n",
      "Unique labels: 10\n"
     ]
    }
   ],
   "source": [
    "display(df.head())\n",
    "print(f\"Shape: {df.shape}\")\n",
    "print(f\"Unique labels: {df['label'].nunique()}\")"
   ]
  },
  {
   "cell_type": "markdown",
   "metadata": {},
   "source": [
    "Dataset obsahuje 56 tisíc obrázků 10 různých druhů oblečení. Labely by měly odpovídat takto:\n",
    "\n",
    "* 0 T-shirt/top\n",
    "* 1 Trouser\n",
    "* 2 Pullover\n",
    "* 3 Dress\n",
    "* 4 Coat\n",
    "* 5 Sandal\n",
    "* 6 Shirt\n",
    "* 7 Sneaker\n",
    "* 8 Bag\n",
    "* 9 Ankle boot\n",
    "\n",
    "Několik obrázků si pro lepší představu zobrazím."
   ]
  },
  {
   "cell_type": "code",
   "execution_count": 428,
   "metadata": {},
   "outputs": [],
   "source": [
    "def show_first_imgs(count, figsize_x=7, figsize_y=7):\n",
    "    \"\"\"function that plots first count images in a grid with their labels\"\"\"\n",
    "    #get size of one row\n",
    "    size = int(pow(count, 1/2))\n",
    "    fig, ax = plt.subplots(size, size, figsize=(figsize_x,figsize_y))\n",
    "    fig.tight_layout()\n",
    "    # get data accordingly\n",
    "    data = df.head(size*size)\n",
    "    \n",
    "    for num, row in data.iterrows():\n",
    "        label = row[\"label\"]\n",
    "        row = row.drop(\"label\")\n",
    "        img = np.array(row, dtype=int).reshape((32, 32))\n",
    "\n",
    "        i = num // size\n",
    "        j = num % size\n",
    "        #plot in grayscale\n",
    "        ax[i][j].imshow(img, cmap='gray', vmin=0, vmax=255)\n",
    "        #remove ticks and numbers\n",
    "        ax[i][j].axis(\"off\")\n",
    "        #plot label\n",
    "        if label == 0:\n",
    "            ax[i][j].set_title(\"T-shirt/top\")\n",
    "        elif label == 1:\n",
    "            ax[i][j].set_title(\"Trousers\")\n",
    "        elif label == 2:\n",
    "            ax[i][j].set_title(\"Pullover\")\n",
    "        elif label == 3:\n",
    "            ax[i][j].set_title(\"Dress\")\n",
    "        elif label == 4:\n",
    "            ax[i][j].set_title(\"Coat\")\n",
    "        elif label == 5:\n",
    "            ax[i][j].set_title(\"Sandal\")\n",
    "        elif label == 6:\n",
    "            ax[i][j].set_title(\"Shirt\")\n",
    "        elif label == 7:\n",
    "            ax[i][j].set_title(\"Sneaker\")\n",
    "        elif label == 8:\n",
    "            ax[i][j].set_title(\"Bag\")\n",
    "        elif label == 9:\n",
    "            ax[i][j].set_title(\"Ankle boot\")\n",
    "        else:\n",
    "            ax[i][j].set_title(\"Unknown\")"
   ]
  },
  {
   "cell_type": "code",
   "execution_count": 429,
   "metadata": {},
   "outputs": [
    {
     "data": {
      "image/png": "[encoded data removed]",
      "text/plain": [
       "<Figure size 700x700 with 16 Axes>"
      ]
     },
     "metadata": {},
     "output_type": "display_data"
    }
   ],
   "source": [
    "show_first_imgs(16)"
   ]
  },
  {
   "cell_type": "markdown",
   "metadata": {},
   "source": [
    "Obrázky vypadají v pořádku a labely odpovídají.\n",
    "\n",
    "## Příprava dat\n",
    "\n",
    "Data si teď převedu lepšího formátu s kterým umí `pytorch` pracovat."
   ]
  },
  {
   "cell_type": "code",
   "execution_count": 430,
   "metadata": {},
   "outputs": [
    {
     "name": "stdout",
     "output_type": "stream",
     "text": [
      "(56000, 1, 32, 32) (56000,)\n"
     ]
    }
   ],
   "source": [
    "#transform to numpy and separate labels\n",
    "source_imgs = df.drop(\"label\", axis=1).to_numpy()\n",
    "source_labels = df[\"label\"].to_numpy()\n",
    "#reshape imgs to ndarray\n",
    "source_imgs = source_imgs.reshape(-1, 1, 32, 32)\n",
    "print(source_imgs.shape, source_labels.shape)"
   ]
  },
  {
   "cell_type": "code",
   "execution_count": 431,
   "metadata": {},
   "outputs": [
    {
     "name": "stdout",
     "output_type": "stream",
     "text": [
      "Number of elements: 56000\n"
     ]
    }
   ],
   "source": [
    "#create pytorch tensor dataset\n",
    "dataset = torch.utils.data.TensorDataset(torch.tensor(source_imgs, dtype = torch.float), torch.tensor(source_labels, dtype = torch.long))\n",
    "\n",
    "print(f\"Number of elements: {len(dataset)}\")"
   ]
  },
  {
   "cell_type": "markdown",
   "metadata": {},
   "source": [
    "Data si dále rozdělím na trénovací, validační a testovací."
   ]
  },
  {
   "cell_type": "code",
   "execution_count": 432,
   "metadata": {},
   "outputs": [
    {
     "name": "stdout",
     "output_type": "stream",
     "text": [
      "Train size: 39200\n",
      "Validation size: 8400\n",
      "Test size: 8400\n"
     ]
    }
   ],
   "source": [
    "#create random generator\n",
    "gen = torch.Generator().manual_seed(124)\n",
    "#split data\n",
    "train_data, val_data, test_data = torch.utils.data.random_split(dataset, [0.7, 0.15, 0.15], generator=gen)\n",
    "print(f\"Train size: {len(train_data)}\\nValidation size: {len(val_data)}\\nTest size: {len(test_data)}\")"
   ]
  },
  {
   "cell_type": "markdown",
   "metadata": {},
   "source": [
    "Na jednlotlivé množiny si ještě připravím `DataLoader`."
   ]
  },
  {
   "cell_type": "code",
   "execution_count": 433,
   "metadata": {},
   "outputs": [],
   "source": [
    "train_loader = torch.utils.data.DataLoader(train_data, batch_size=32, shuffle=True)\n",
    "val_loader = torch.utils.data.DataLoader(val_data, batch_size=128, shuffle=False)\n",
    "test_loader = torch.utils.data.DataLoader(train_data, batch_size=128, shuffle=False)"
   ]
  },
  {
   "cell_type": "markdown",
   "metadata": {},
   "source": [
    "## Dopředná neuronová síť\n",
    "\n",
    "Výhoda neuronových sítí spočívá v tom, že se samy dokáží naučit řešit i velmi složité problémy (do jisté míry). Při větší velikosti jsou ale sítě dost náchylné na přeučení (kvůli obrovskému množství parametrů se dobře přizpůsobí trénovacím datům). Tomu budu muset zamezit nějakou formou regularizace. \n",
    "\n",
    "Konkrétně dopředná neuronová síť by klasifikaci mohla zvládnout celkem dobře. I když pravděpodobně ne tak dobře jako konvoluční síť, která bývá často na klasifikaci obrázků lepší, jelikož potřebuje méně parametrů a zároveň dokáže pomocí konvoluce lépe zachytit \"vlastnosti\" obrázků.\n",
    "\n",
    "Nejprve zkusím vytvořit jednoduchou dopřednou síť skládající se pouze ze dvou vrstev a potom podle výsledků budu síť zvětšovat a zkoušet další možnosti, jak výslednou přesnost vylepšit.\n",
    "\n",
    "Jako ztrátovou funkci použiji kategorickou relativní entropii, takže na výstupu sítě nemusím používat žádnou aktivační funkci (použiji až ve chvíli, kdy budu chtít zjisti konkrétní pravděpodobnosti). Jako aktivační funkci pro skrytou vrstvu použiji *RELU*. Jako optimizer vyzkouším nejprve základní *SGD* s učícím paremetrem `lr=0.1`.\n",
    "\n",
    "Jako formu regularizace použiji rovnou *early stopping*, abych netrénoval modely zbytečně."
   ]
  },
  {
   "cell_type": "code",
   "execution_count": 434,
   "metadata": {},
   "outputs": [],
   "source": [
    "class FwdNN(nn.Module):\n",
    "    def __init__(self):\n",
    "        super().__init__()\n",
    "        self.fc1 = nn.Linear(32*32, 16)\n",
    "        self.fco = nn.Linear(16, 10)\n",
    "\n",
    "    def forward(self, x):\n",
    "        x = x.flatten(start_dim = 1)\n",
    "        x = F.relu(self.fc1(x))\n",
    "        x = self.fco(x)\n",
    "        return x"
   ]
  },
  {
   "cell_type": "code",
   "execution_count": 456,
   "metadata": {},
   "outputs": [],
   "source": [
    "model = FwdNN()\n",
    "\n",
    "#define loss function and optimizer\n",
    "loss_fn = torch.nn.CrossEntropyLoss()\n",
    "optimizer_sgd = torch.optim.SGD(model.parameters(), lr=0.1)"
   ]
  },
  {
   "cell_type": "markdown",
   "metadata": {},
   "source": [
    "Ještě se ze zajímavosti podívám, kolik má tento \"jednoduchý\" model parametrů."
   ]
  },
  {
   "cell_type": "code",
   "execution_count": 436,
   "metadata": {},
   "outputs": [
    {
     "name": "stdout",
     "output_type": "stream",
     "text": [
      "Total number of parameters: 16570\n"
     ]
    }
   ],
   "source": [
    "def total_param_count(model):\n",
    "    param_count = sum(param.numel() for param in model.parameters())\n",
    "    print(f\"Total number of parameters: {param_count}\")\n",
    "    \n",
    "total_param_count(model)"
   ]
  },
  {
   "cell_type": "markdown",
   "metadata": {},
   "source": [
    "I takto malý model má přes 16 tisíc parametrů. To je dáno hlavně velikostí vstupu, ale stejně je to už poměrně vysoké číslo. Konvoluční sítě, které budu zkoušet později, by měly mít parametrů podstatně méně (při podobné velikosti).\n",
    "\n",
    "Napíšu si funkce, které budou obstarávat trénování modelů a funkci na vykreslení chyby modelu v průběhu učení (inspirovány kódem ze cvičení)."
   ]
  },
  {
   "cell_type": "code",
   "execution_count": 440,
   "metadata": {},
   "outputs": [],
   "source": [
    "def plot_loss(train_list, val_list):\n",
    "    length = len(train_list)\n",
    "    plt.plot(np.arange(length)+1,train_list, '.-', label='Train loss')\n",
    "    plt.plot(np.arange(length)+1,val_list, '.-', label='Validation loss')\n",
    "    plt.title(\"Validation and training loss by epochs\")\n",
    "    plt.xlabel(\"Epochs\")\n",
    "    plt.ylabel(\"Loss\")\n",
    "    plt.legend()\n",
    "    plt.show()"
   ]
  },
  {
   "cell_type": "code",
   "execution_count": 437,
   "metadata": {},
   "outputs": [],
   "source": [
    "def train_one_epoch(model, loss_fn, optimizer, loader):\n",
    "    running_cum_loss = 0.\n",
    "    for inputs, labels in loader:\n",
    "        # set grad to zero\n",
    "        optimizer.zero_grad()\n",
    "        # Make predictions for this batch\n",
    "        outputs = model(inputs)\n",
    "        # Compute the loss and its gradients\n",
    "        loss = loss_fn(outputs, labels)\n",
    "        # Backpropagation\n",
    "        loss.backward()\n",
    "        # Adjust learning weights\n",
    "        optimizer.step()\n",
    "        # Add current loss to total loss\n",
    "        running_cum_loss += loss.item() * inputs.shape[0]\n",
    "    \n",
    "    # Return average loss\n",
    "    return running_cum_loss / len(train_data)"
   ]
  },
  {
   "cell_type": "code",
   "execution_count": 451,
   "metadata": {},
   "outputs": [],
   "source": [
    "def early_stopping_train(model, loss_fn, optimizer, train_loader=train_loader, print_step=5,\n",
    "                         val_loader=val_loader, max_epoch=100, not_improved_limit=5, show_plot=True):\n",
    "    best_vloss = 1000000.\n",
    "    not_improved_count = 0\n",
    "    train_loss_list = []\n",
    "    val_loss_list = []\n",
    "    vacc_list = []\n",
    "\n",
    "    for epoch in tqdm(range(max_epoch)):\n",
    "        #change model to trianing mode\n",
    "        model.train()\n",
    "        # One training step\n",
    "        avg_loss = train_one_epoch(model, loss_fn, optimizer, train_loader)\n",
    "\n",
    "        # Validation performance\n",
    "        model.eval()\n",
    "        running_cum_vloss = 0.0\n",
    "        vcorrect = 0\n",
    "        for (vinputs, vlabels) in val_loader:\n",
    "            with torch.no_grad():\n",
    "                voutputs = model(vinputs)\n",
    "                vloss = loss_fn(voutputs, vlabels)\n",
    "            running_cum_vloss += vloss * vinputs.shape[0]\n",
    "            # count the correctly classified samples\n",
    "            vcorrect += (voutputs.argmax(1) == vlabels).float().sum()\n",
    "        # Get average loss and accuraccy\n",
    "        avg_vloss = running_cum_vloss / len(val_data)\n",
    "        vacc = vcorrect / len(val_data)\n",
    "\n",
    "        # collect values\n",
    "        train_loss_list.append(avg_loss)\n",
    "        val_loss_list.append(avg_vloss)\n",
    "        vacc_list.append(vacc)\n",
    "\n",
    "        # Track best performance, and save the model's state\n",
    "        if avg_vloss < best_vloss:\n",
    "            not_improved_count = 0\n",
    "            best_vloss = avg_vloss\n",
    "            torch.save(model.state_dict(), MODEL_PATH)\n",
    "        else:\n",
    "            not_improved_count += 1\n",
    "            \n",
    "        # break if model hasn't improved in a while\n",
    "        if not_improved_count >= not_improved_limit:\n",
    "            print(f\"Model hasn't improved in the last {not_improved_limit} iterations. Training stopped.\")\n",
    "            break\n",
    "\n",
    "        #show progress (first epoch and then by defined step)\n",
    "        if epoch == 0 or ((epoch+1) % print_step == 0):\n",
    "            print(f\"Epoch: {epoch+1}, TRAIN loss: {avg_loss:.3f}, VALIDATION loss: {avg_vloss:.3f}, ACC: {vacc:.3f}\")\n",
    "            \n",
    "    print(f\"Max accuracy: {np.max(vacc_list)}\")\n",
    "    if show_plot:\n",
    "        plot_loss(train_loss_list, val_loss_list)\n",
    "    "
   ]
  },
  {
   "cell_type": "markdown",
   "metadata": {},
   "source": [
    "Spustím trénování:"
   ]
  },
  {
   "cell_type": "code",
   "execution_count": 457,
   "metadata": {},
   "outputs": [
    {
     "name": "stderr",
     "output_type": "stream",
     "text": [
      "  1%|▍                                          | 1/100 [00:03<05:36,  3.40s/it]"
     ]
    },
    {
     "name": "stdout",
     "output_type": "stream",
     "text": [
      "Epoch: 1, TRAIN loss: 6.888, VALIDATION loss: 2.303, ACC: 0.097\n"
     ]
    },
    {
     "name": "stderr",
     "output_type": "stream",
     "text": [
      "  5%|██▏                                        | 5/100 [00:16<05:04,  3.21s/it]"
     ]
    },
    {
     "name": "stdout",
     "output_type": "stream",
     "text": [
      "Epoch: 5, TRAIN loss: 2.303, VALIDATION loss: 2.305, ACC: 0.100\n"
     ]
    },
    {
     "name": "stderr",
     "output_type": "stream",
     "text": [
      "  8%|███▍                                       | 8/100 [00:28<05:33,  3.62s/it]"
     ]
    },
    {
     "name": "stdout",
     "output_type": "stream",
     "text": [
      "Model hasn't improved in the last 5 iterations. Training stopped.\n",
      "Max accuracy: 0.10476190596818924\n"
     ]
    },
    {
     "name": "stderr",
     "output_type": "stream",
     "text": [
      "\n"
     ]
    }
   ],
   "source": [
    "early_stopping_train(model, loss_fn, optimizer_sgd, show_plot=False)"
   ]
  },
  {
   "cell_type": "markdown",
   "metadata": {},
   "source": [
    "Průměrná hodnota ztrátové funkce na validační množině zůstává pořád stejná a přesnost se pohybuje okolo 10%. To znamená, že model predikuje v podstatě náhodně a nedaří se mu zmenšit hodnotu ztrátové funkce.\n",
    "\n",
    "Mohl bych zkoušet ladit učící parametr, ale radši rovnou zkusím změnit *optimizer* na `Adam` a prozkoumám, jestli to zlepší výsledky."
   ]
  },
  {
   "cell_type": "code",
   "execution_count": 459,
   "metadata": {},
   "outputs": [
    {
     "name": "stderr",
     "output_type": "stream",
     "text": [
      "  1%|▍                                          | 1/100 [00:04<06:57,  4.21s/it]"
     ]
    },
    {
     "name": "stdout",
     "output_type": "stream",
     "text": [
      "Epoch: 1, TRAIN loss: 2.133, VALIDATION loss: 2.317, ACC: 0.204\n"
     ]
    },
    {
     "name": "stderr",
     "output_type": "stream",
     "text": [
      "  5%|██▏                                        | 5/100 [00:22<07:10,  4.53s/it]"
     ]
    },
    {
     "name": "stdout",
     "output_type": "stream",
     "text": [
      "Epoch: 5, TRAIN loss: 1.599, VALIDATION loss: 1.610, ACC: 0.294\n"
     ]
    },
    {
     "name": "stderr",
     "output_type": "stream",
     "text": [
      " 10%|████▏                                     | 10/100 [00:44<06:42,  4.47s/it]"
     ]
    },
    {
     "name": "stdout",
     "output_type": "stream",
     "text": [
      "Epoch: 10, TRAIN loss: 1.302, VALIDATION loss: 1.284, ACC: 0.483\n"
     ]
    },
    {
     "name": "stderr",
     "output_type": "stream",
     "text": [
      " 15%|██████▎                                   | 15/100 [01:06<06:01,  4.26s/it]"
     ]
    },
    {
     "name": "stdout",
     "output_type": "stream",
     "text": [
      "Epoch: 15, TRAIN loss: 1.247, VALIDATION loss: 1.242, ACC: 0.491\n"
     ]
    },
    {
     "name": "stderr",
     "output_type": "stream",
     "text": [
      " 17%|███████▏                                  | 17/100 [01:18<06:22,  4.61s/it]"
     ]
    },
    {
     "name": "stdout",
     "output_type": "stream",
     "text": [
      "Model hasn't improved in the last 5 iterations. Training stopped.\n",
      "Max accuracy: 0.49761903285980225\n"
     ]
    },
    {
     "name": "stderr",
     "output_type": "stream",
     "text": [
      "\n"
     ]
    }
   ],
   "source": [
    "# reset the model\n",
    "model = FwdNN()\n",
    "optimizer_adam = torch.optim.Adam(model.parameters())\n",
    "early_stopping_train(model, loss_fn, optimizer_adam, show_plot=False)"
   ]
  },
  {
   "cell_type": "markdown",
   "metadata": {},
   "source": [
    "Výsledky to zlepšilo. Validační přesnost stoupla na 50%. To je sice lepší než původních 10, ale pořád to není moc dobré. Zkusím proto zvětšit počet a velikost vrstev v modelu."
   ]
  },
  {
   "cell_type": "code",
   "execution_count": 460,
   "metadata": {},
   "outputs": [],
   "source": [
    "class FwdNN2(nn.Module):\n",
    "    def __init__(self):\n",
    "        super().__init__()\n",
    "        self.fc1 = nn.Linear(32*32, 64)\n",
    "        self.fc2 = nn.Linear(64, 32)\n",
    "        self.fc3 = nn.Linear(32, 32)\n",
    "        self.fco = nn.Linear(32, 10)\n",
    "\n",
    "    def forward(self, x):\n",
    "        x = x.flatten(start_dim = 1)\n",
    "        x = F.relu(self.fc1(x))\n",
    "        x = F.relu(self.fc2(x))\n",
    "        x = F.relu(self.fc3(x))\n",
    "        x = self.fco(x)\n",
    "        return x"
   ]
  },
  {
   "cell_type": "code",
   "execution_count": 464,
   "metadata": {},
   "outputs": [
    {
     "name": "stderr",
     "output_type": "stream",
     "text": [
      "  1%|▍                                          | 1/100 [00:05<08:47,  5.33s/it]"
     ]
    },
    {
     "name": "stdout",
     "output_type": "stream",
     "text": [
      "Epoch: 1, TRAIN loss: 0.816, VALIDATION loss: 0.689, ACC: 0.739\n"
     ]
    },
    {
     "name": "stderr",
     "output_type": "stream",
     "text": [
      " 10%|████▏                                     | 10/100 [00:56<08:26,  5.62s/it]"
     ]
    },
    {
     "name": "stdout",
     "output_type": "stream",
     "text": [
      "Epoch: 10, TRAIN loss: 0.459, VALIDATION loss: 0.510, ACC: 0.810\n"
     ]
    },
    {
     "name": "stderr",
     "output_type": "stream",
     "text": [
      " 20%|████████▍                                 | 20/100 [01:52<07:11,  5.39s/it]"
     ]
    },
    {
     "name": "stdout",
     "output_type": "stream",
     "text": [
      "Epoch: 20, TRAIN loss: 0.405, VALIDATION loss: 0.532, ACC: 0.816\n"
     ]
    },
    {
     "name": "stderr",
     "output_type": "stream",
     "text": [
      " 27%|███████████▎                              | 27/100 [02:35<06:59,  5.75s/it]"
     ]
    },
    {
     "name": "stdout",
     "output_type": "stream",
     "text": [
      "Model hasn't improved in the last 10 iterations. Training stopped.\n",
      "Max accuracy: 0.8286904692649841\n"
     ]
    },
    {
     "name": "stderr",
     "output_type": "stream",
     "text": [
      "\n"
     ]
    },
    {
     "data": {
      "image/png": "[encoded data removed]",
      "text/plain": [
       "<Figure size 640x480 with 1 Axes>"
      ]
     },
     "metadata": {},
     "output_type": "display_data"
    }
   ],
   "source": [
    "model = FwdNN2()\n",
    "optimizer_adam = torch.optim.Adam(model.parameters())\n",
    "early_stopping_train(model, loss_fn, optimizer_adam, not_improved_limit=10, print_step=10)"
   ]
  },
  {
   "cell_type": "markdown",
   "metadata": {},
   "source": [
    "Zvětšení modelu výrazně pomohlo. Validační přesnost se zvýšila na téměř 83%. Z grafu je ale vidět, že dochází k přeučení modelu a model se zlepšuje pouze na trénovacích datech. Přidám proto regularizaci. Nejprve vyzkouším L2 regularizaci pomocí parametru `weight_decay`."
   ]
  },
  {
   "cell_type": "code",
   "execution_count": 470,
   "metadata": {},
   "outputs": [
    {
     "name": "stderr",
     "output_type": "stream",
     "text": [
      "  1%|▍                                          | 1/100 [00:05<09:13,  5.59s/it]"
     ]
    },
    {
     "name": "stdout",
     "output_type": "stream",
     "text": [
      "Epoch: 1, TRAIN loss: 0.841, VALIDATION loss: 0.734, ACC: 0.712\n"
     ]
    },
    {
     "name": "stderr",
     "output_type": "stream",
     "text": [
      " 10%|████▏                                     | 10/100 [01:22<12:58,  8.65s/it]"
     ]
    },
    {
     "name": "stdout",
     "output_type": "stream",
     "text": [
      "Epoch: 10, TRAIN loss: 0.550, VALIDATION loss: 0.591, ACC: 0.778\n"
     ]
    },
    {
     "name": "stderr",
     "output_type": "stream",
     "text": [
      " 20%|████████▍                                 | 20/100 [02:52<12:14,  9.18s/it]"
     ]
    },
    {
     "name": "stdout",
     "output_type": "stream",
     "text": [
      "Epoch: 20, TRAIN loss: 0.530, VALIDATION loss: 0.578, ACC: 0.790\n"
     ]
    },
    {
     "name": "stderr",
     "output_type": "stream",
     "text": [
      " 30%|████████████▌                             | 30/100 [04:25<10:55,  9.37s/it]"
     ]
    },
    {
     "name": "stdout",
     "output_type": "stream",
     "text": [
      "Epoch: 30, TRAIN loss: 0.523, VALIDATION loss: 0.550, ACC: 0.798\n"
     ]
    },
    {
     "name": "stderr",
     "output_type": "stream",
     "text": [
      " 30%|████████████▌                             | 30/100 [04:34<10:41,  9.16s/it]"
     ]
    },
    {
     "name": "stdout",
     "output_type": "stream",
     "text": [
      "Model hasn't improved in the last 10 iterations. Training stopped.\n",
      "Max accuracy: 0.8071428537368774\n"
     ]
    },
    {
     "name": "stderr",
     "output_type": "stream",
     "text": [
      "\n"
     ]
    },
    {
     "data": {
      "image/png": "[encoded data removed]",
      "text/plain": [
       "<Figure size 640x480 with 1 Axes>"
      ]
     },
     "metadata": {},
     "output_type": "display_data"
    }
   ],
   "source": [
    "model = FwdNN2()\n",
    "optimizer_adam = torch.optim.Adam(model.parameters(), weight_decay=0.01)\n",
    "early_stopping_train(model, loss_fn, optimizer_adam, not_improved_limit=10, print_step=10)"
   ]
  },
  {
   "cell_type": "markdown",
   "metadata": {},
   "source": [
    "Výsledky se oproti předchozímu stavu nezlepšily. Zkusím zvětšit hodnotu regularizačního parametru."
   ]
  },
  {
   "cell_type": "code",
   "execution_count": 471,
   "metadata": {},
   "outputs": [
    {
     "name": "stderr",
     "output_type": "stream",
     "text": [
      "  1%|▍                                          | 1/100 [00:05<09:00,  5.46s/it]"
     ]
    },
    {
     "name": "stdout",
     "output_type": "stream",
     "text": [
      "Epoch: 1, TRAIN loss: 0.830, VALIDATION loss: 0.654, ACC: 0.763\n"
     ]
    },
    {
     "name": "stderr",
     "output_type": "stream",
     "text": [
      " 10%|████▏                                     | 10/100 [01:15<10:45,  7.17s/it]"
     ]
    },
    {
     "name": "stdout",
     "output_type": "stream",
     "text": [
      "Epoch: 10, TRAIN loss: 0.627, VALIDATION loss: 0.621, ACC: 0.771\n"
     ]
    },
    {
     "name": "stderr",
     "output_type": "stream",
     "text": [
      " 20%|████████▍                                 | 20/100 [02:16<08:08,  6.11s/it]"
     ]
    },
    {
     "name": "stdout",
     "output_type": "stream",
     "text": [
      "Epoch: 20, TRAIN loss: 0.617, VALIDATION loss: 0.634, ACC: 0.760\n"
     ]
    },
    {
     "name": "stderr",
     "output_type": "stream",
     "text": [
      " 30%|████████████▌                             | 30/100 [03:18<07:15,  6.22s/it]"
     ]
    },
    {
     "name": "stdout",
     "output_type": "stream",
     "text": [
      "Epoch: 30, TRAIN loss: 0.621, VALIDATION loss: 0.615, ACC: 0.773\n"
     ]
    },
    {
     "name": "stderr",
     "output_type": "stream",
     "text": [
      " 31%|█████████████                             | 31/100 [03:30<07:47,  6.78s/it]"
     ]
    },
    {
     "name": "stdout",
     "output_type": "stream",
     "text": [
      "Model hasn't improved in the last 10 iterations. Training stopped.\n",
      "Max accuracy: 0.7851190567016602\n"
     ]
    },
    {
     "name": "stderr",
     "output_type": "stream",
     "text": [
      "\n"
     ]
    },
    {
     "data": {
      "image/png": "[encoded data removed]",
      "text/plain": [
       "<Figure size 640x480 with 1 Axes>"
      ]
     },
     "metadata": {},
     "output_type": "display_data"
    }
   ],
   "source": [
    "model = FwdNN2()\n",
    "optimizer_adam = torch.optim.Adam(model.parameters(), weight_decay=0.05)\n",
    "early_stopping_train(model, loss_fn, optimizer_adam, not_improved_limit=10, print_step=10)"
   ]
  },
  {
   "cell_type": "markdown",
   "metadata": {},
   "source": [
    "To také nepřineslo lepší výsledky. \n",
    "\n",
    "Možná by mohlo pomoct nepenalizovat biasy, ale to bych musel regularizaci řešit jinak, než pomocí parametru `weigh_decay`, takže místo toho zkusím použít *dropout*, který přidám do všech vrstev modelu."
   ]
  },
  {
   "cell_type": "code",
   "execution_count": 472,
   "metadata": {},
   "outputs": [],
   "source": [
    "class FwdNN2_dropout(nn.Module):\n",
    "    def __init__(self):\n",
    "        super().__init__()\n",
    "        self.dropout_in = nn.Dropout(0.2)\n",
    "        self.fc1 = nn.Linear(32*32, 64)\n",
    "        self.dropout1 = nn.Dropout(0.4)\n",
    "        self.fc2 = nn.Linear(64, 32)\n",
    "        self.dropout2 = nn.Dropout(0.4)\n",
    "        self.fc3 = nn.Linear(32, 32)\n",
    "        self.dropout3 = nn.Dropout(0.4)\n",
    "        self.fco = nn.Linear(32, 10)\n",
    "\n",
    "    def forward(self, x):\n",
    "        x = x.flatten(start_dim = 1)\n",
    "        x = self.dropout_in(x)\n",
    "        x = F.relu(self.fc1(x))\n",
    "        x = self.dropout1(x)\n",
    "        x = F.relu(self.fc2(x))\n",
    "        x = self.dropout2(x)\n",
    "        x = F.relu(self.fc3(x))\n",
    "        x = self.dropout3(x)\n",
    "        x = self.fco(x)\n",
    "        return x"
   ]
  },
  {
   "cell_type": "code",
   "execution_count": 473,
   "metadata": {},
   "outputs": [
    {
     "name": "stderr",
     "output_type": "stream",
     "text": [
      "  1%|▍                                          | 1/100 [00:06<09:59,  6.05s/it]"
     ]
    },
    {
     "name": "stdout",
     "output_type": "stream",
     "text": [
      "Epoch: 1, TRAIN loss: 1.960, VALIDATION loss: 1.442, ACC: 0.442\n"
     ]
    },
    {
     "name": "stderr",
     "output_type": "stream",
     "text": [
      " 10%|████▏                                     | 10/100 [01:00<09:02,  6.03s/it]"
     ]
    },
    {
     "name": "stdout",
     "output_type": "stream",
     "text": [
      "Epoch: 10, TRAIN loss: 1.319, VALIDATION loss: 1.073, ACC: 0.625\n"
     ]
    },
    {
     "name": "stderr",
     "output_type": "stream",
     "text": [
      " 20%|████████▍                                 | 20/100 [02:01<08:05,  6.07s/it]"
     ]
    },
    {
     "name": "stdout",
     "output_type": "stream",
     "text": [
      "Epoch: 20, TRAIN loss: 1.252, VALIDATION loss: 1.033, ACC: 0.620\n"
     ]
    },
    {
     "name": "stderr",
     "output_type": "stream",
     "text": [
      " 30%|████████████▌                             | 30/100 [03:02<07:04,  6.06s/it]"
     ]
    },
    {
     "name": "stdout",
     "output_type": "stream",
     "text": [
      "Epoch: 30, TRAIN loss: 1.262, VALIDATION loss: 1.065, ACC: 0.590\n"
     ]
    },
    {
     "name": "stderr",
     "output_type": "stream",
     "text": [
      " 40%|████████████████▊                         | 40/100 [04:02<05:59,  5.99s/it]"
     ]
    },
    {
     "name": "stdout",
     "output_type": "stream",
     "text": [
      "Epoch: 40, TRAIN loss: 1.278, VALIDATION loss: 1.097, ACC: 0.574\n"
     ]
    },
    {
     "name": "stderr",
     "output_type": "stream",
     "text": [
      " 50%|█████████████████████                     | 50/100 [05:04<05:10,  6.20s/it]"
     ]
    },
    {
     "name": "stdout",
     "output_type": "stream",
     "text": [
      "Epoch: 50, TRAIN loss: 1.238, VALIDATION loss: 1.029, ACC: 0.605\n"
     ]
    },
    {
     "name": "stderr",
     "output_type": "stream",
     "text": [
      " 52%|█████████████████████▊                    | 52/100 [05:23<04:58,  6.22s/it]"
     ]
    },
    {
     "name": "stdout",
     "output_type": "stream",
     "text": [
      "Model hasn't improved in the last 10 iterations. Training stopped.\n",
      "Max accuracy: 0.6514285802841187\n"
     ]
    },
    {
     "name": "stderr",
     "output_type": "stream",
     "text": [
      "\n"
     ]
    },
    {
     "data": {
      "image/png": "[encoded data removed]",
      "text/plain": [
       "<Figure size 640x480 with 1 Axes>"
      ]
     },
     "metadata": {},
     "output_type": "display_data"
    }
   ],
   "source": [
    "model = FwdNN2_dropout()\n",
    "optimizer_adam = torch.optim.Adam(model.parameters())\n",
    "early_stopping_train(model, loss_fn, optimizer_adam, not_improved_limit=10, print_step=10)"
   ]
  },
  {
   "cell_type": "markdown",
   "metadata": {},
   "source": [
    "Přidání dropoutu přesnost výrazně zhoršilo. Možná jsem nastavil moc velké pravděpodobnosti. Zkusím pravděpodobnosti zmenšit a odebrat dropout z poslední vrstvy."
   ]
  },
  {
   "cell_type": "code",
   "execution_count": 474,
   "metadata": {},
   "outputs": [],
   "source": [
    "class FwdNN2_dropout2(nn.Module):\n",
    "    def __init__(self):\n",
    "        super().__init__()\n",
    "        self.dropout_in = nn.Dropout(0.15)\n",
    "        self.fc1 = nn.Linear(32*32, 64)\n",
    "        self.dropout1 = nn.Dropout(0.25)\n",
    "        self.fc2 = nn.Linear(64, 32)\n",
    "        self.dropout2 = nn.Dropout(0.25)\n",
    "        self.fc3 = nn.Linear(32, 32)\n",
    "        self.dropout3 = nn.Dropout(0.25)\n",
    "        self.fco = nn.Linear(32, 10)\n",
    "\n",
    "    def forward(self, x):\n",
    "        x = x.flatten(start_dim = 1)\n",
    "        x = self.dropout_in(x)\n",
    "        x = F.relu(self.fc1(x))\n",
    "        x = self.dropout1(x)\n",
    "        x = F.relu(self.fc2(x))\n",
    "        x = self.dropout2(x)\n",
    "        x = F.relu(self.fc3(x))\n",
    "        x = self.fco(x)\n",
    "        return x"
   ]
  },
  {
   "cell_type": "code",
   "execution_count": 476,
   "metadata": {},
   "outputs": [
    {
     "name": "stderr",
     "output_type": "stream",
     "text": [
      "  1%|▍                                          | 1/100 [00:05<09:17,  5.63s/it]"
     ]
    },
    {
     "name": "stdout",
     "output_type": "stream",
     "text": [
      "Epoch: 1, TRAIN loss: 1.236, VALIDATION loss: 0.804, ACC: 0.693\n"
     ]
    },
    {
     "name": "stderr",
     "output_type": "stream",
     "text": [
      " 15%|██████▎                                   | 15/100 [01:25<08:10,  5.77s/it]"
     ]
    },
    {
     "name": "stdout",
     "output_type": "stream",
     "text": [
      "Epoch: 15, TRAIN loss: 0.768, VALIDATION loss: 0.637, ACC: 0.773\n"
     ]
    },
    {
     "name": "stderr",
     "output_type": "stream",
     "text": [
      " 28%|███████████▊                              | 28/100 [02:44<07:03,  5.89s/it]"
     ]
    },
    {
     "name": "stdout",
     "output_type": "stream",
     "text": [
      "Model hasn't improved in the last 10 iterations. Training stopped.\n",
      "Max accuracy: 0.7784523963928223\n"
     ]
    },
    {
     "name": "stderr",
     "output_type": "stream",
     "text": [
      "\n"
     ]
    },
    {
     "data": {
      "image/png": "[encoded data removed]",
      "text/plain": [
       "<Figure size 640x480 with 1 Axes>"
      ]
     },
     "metadata": {},
     "output_type": "display_data"
    }
   ],
   "source": [
    "model = FwdNN2_dropout2()\n",
    "optimizer_adam = torch.optim.Adam(model.parameters())\n",
    "early_stopping_train(model, loss_fn, optimizer_adam, not_improved_limit=10, print_step=15)"
   ]
  },
  {
   "cell_type": "markdown",
   "metadata": {},
   "source": [
    "To přesnost oproti předchozímu pokusu trochu zvedlo, ale pořád ne dostatečně. Zkusím ještě zvětšit velikost sítě, jelikož dropout vlastně omezuje, kolik toho dokáže model popsat. Zároveň dropout nebudu aplikovat po každé vrstvě, ale pouze na začátku a \"uprostřed\", jelikož to z grafu vypadá, že je regularizace moc silná."
   ]
  },
  {
   "cell_type": "code",
   "execution_count": 477,
   "metadata": {},
   "outputs": [],
   "source": [
    "class FwdNN3_dropout(nn.Module):\n",
    "    def __init__(self):\n",
    "        super().__init__()\n",
    "        self.dropout_in = nn.Dropout(0.2)\n",
    "        self.dropout = nn.Dropout(0.5)\n",
    "        self.fc1 = nn.Linear(32*32, 128)\n",
    "        self.fc2 = nn.Linear(128, 128)\n",
    "        self.fc3 = nn.Linear(128, 128)\n",
    "        self.fc4 = nn.Linear(128, 64)\n",
    "        self.fco = nn.Linear(64, 10)\n",
    "\n",
    "    def forward(self, x):\n",
    "        x = x.flatten(start_dim = 1)\n",
    "        x = self.dropout_in(x)\n",
    "        x = F.relu(self.fc1(x))\n",
    "        x = F.relu(self.fc2(x))\n",
    "        x = self.dropout(x)\n",
    "        x = F.relu(self.fc3(x))\n",
    "        x = F.relu(self.fc4(x))\n",
    "        x = self.fco(x)\n",
    "        return x"
   ]
  },
  {
   "cell_type": "code",
   "execution_count": 478,
   "metadata": {},
   "outputs": [
    {
     "name": "stderr",
     "output_type": "stream",
     "text": [
      "  1%|▍                                          | 1/100 [00:07<11:34,  7.01s/it]"
     ]
    },
    {
     "name": "stdout",
     "output_type": "stream",
     "text": [
      "Epoch: 1, TRAIN loss: 0.956, VALIDATION loss: 0.705, ACC: 0.749\n"
     ]
    },
    {
     "name": "stderr",
     "output_type": "stream",
     "text": [
      " 15%|██████▎                                   | 15/100 [01:54<10:46,  7.60s/it]"
     ]
    },
    {
     "name": "stdout",
     "output_type": "stream",
     "text": [
      "Epoch: 15, TRAIN loss: 0.546, VALIDATION loss: 0.526, ACC: 0.817\n"
     ]
    },
    {
     "name": "stderr",
     "output_type": "stream",
     "text": [
      " 30%|████████████▌                             | 30/100 [03:49<08:56,  7.67s/it]"
     ]
    },
    {
     "name": "stdout",
     "output_type": "stream",
     "text": [
      "Epoch: 30, TRAIN loss: 0.513, VALIDATION loss: 0.506, ACC: 0.816\n"
     ]
    },
    {
     "name": "stderr",
     "output_type": "stream",
     "text": [
      " 33%|█████████████▊                            | 33/100 [04:20<08:47,  7.88s/it]"
     ]
    },
    {
     "name": "stdout",
     "output_type": "stream",
     "text": [
      "Model hasn't improved in the last 10 iterations. Training stopped.\n",
      "Max accuracy: 0.8258333206176758\n"
     ]
    },
    {
     "name": "stderr",
     "output_type": "stream",
     "text": [
      "\n"
     ]
    },
    {
     "data": {
      "image/png": "[encoded data removed]",
      "text/plain": [
       "<Figure size 640x480 with 1 Axes>"
      ]
     },
     "metadata": {},
     "output_type": "display_data"
    }
   ],
   "source": [
    "model = FwdNN3_dropout()\n",
    "optimizer_adam = torch.optim.Adam(model.parameters())\n",
    "early_stopping_train(model, loss_fn, optimizer_adam, not_improved_limit=10, print_step=15)"
   ]
  },
  {
   "cell_type": "markdown",
   "metadata": {},
   "source": [
    "To přesnost trochu zvýšilo, ale opět pouze na úroveň předchozího modelu bez dropoutu.\n",
    "\n",
    "Vyzkouším ještě, jestli přesnost nezvýší normalizace nebo standartizace dat. Vytvořím si proto odpovídající dataloadery."
   ]
  },
  {
   "cell_type": "code",
   "execution_count": 480,
   "metadata": {},
   "outputs": [
    {
     "name": "stdout",
     "output_type": "stream",
     "text": [
      "(1, 32, 32) (1, 32, 32)\n",
      "(56000, 1, 32, 32)\n"
     ]
    }
   ],
   "source": [
    "#min max normalization\n",
    "source_imgs_norm = source_imgs/255\n",
    "#standartization \n",
    "\n",
    "#(this should be done separately for test (and val) data, but i will keep it together for simplicity)\n",
    "# It shouldn't have big impact on datset this big, I will do it properly if the test set needs to be used for final evaluation\n",
    "std = source_imgs.std(axis=0)\n",
    "mean = source_imgs.mean(axis=0)\n",
    "print(mean.shape, std.shape)\n",
    "source_imgs_std = (source_imgs - mean)/std\n",
    "print(source_imgs_std.shape)"
   ]
  },
  {
   "cell_type": "code",
   "execution_count": 140,
   "metadata": {},
   "outputs": [],
   "source": [
    "#create new datasets and data loaders\n",
    "norm_dataset = torch.utils.data.TensorDataset(torch.tensor(source_imgs_norm, dtype = torch.float), torch.tensor(source_labels, dtype = torch.long))\n",
    "std_dataset = torch.utils.data.TensorDataset(torch.tensor(source_imgs_std, dtype = torch.float), torch.tensor(source_labels, dtype = torch.long))\n",
    "\n",
    "norm_train_data, norm_val_data, norm_test_data = torch.utils.data.random_split(norm_dataset, [0.7, 0.15, 0.15], generator=gen)\n",
    "std_train_data, std_val_data, std_test_data = torch.utils.data.random_split(std_dataset, [0.7, 0.15, 0.15], generator=gen)\n",
    "\n",
    "norm_train_loader = torch.utils.data.DataLoader(norm_train_data, batch_size=32, shuffle=True)\n",
    "norm_val_loader = torch.utils.data.DataLoader(norm_val_data, batch_size=128, shuffle=False)\n",
    "std_train_loader = torch.utils.data.DataLoader(std_train_data, batch_size=32, shuffle=True)\n",
    "std_val_loader = torch.utils.data.DataLoader(std_val_data, batch_size=128, shuffle=False)"
   ]
  },
  {
   "cell_type": "markdown",
   "metadata": {},
   "source": [
    "MinMax Normalizace:"
   ]
  },
  {
   "cell_type": "code",
   "execution_count": 481,
   "metadata": {},
   "outputs": [
    {
     "name": "stderr",
     "output_type": "stream",
     "text": [
      "  1%|▍                                          | 1/100 [00:06<10:02,  6.08s/it]"
     ]
    },
    {
     "name": "stdout",
     "output_type": "stream",
     "text": [
      "Epoch: 1, TRAIN loss: 0.920, VALIDATION loss: 0.717, ACC: 0.735\n"
     ]
    },
    {
     "name": "stderr",
     "output_type": "stream",
     "text": [
      " 15%|██████▎                                   | 15/100 [01:27<08:30,  6.00s/it]"
     ]
    },
    {
     "name": "stdout",
     "output_type": "stream",
     "text": [
      "Epoch: 15, TRAIN loss: 0.370, VALIDATION loss: 0.450, ACC: 0.839\n"
     ]
    },
    {
     "name": "stderr",
     "output_type": "stream",
     "text": [
      " 22%|█████████▏                                | 22/100 [02:14<07:56,  6.11s/it]"
     ]
    },
    {
     "name": "stdout",
     "output_type": "stream",
     "text": [
      "Model hasn't improved in the last 10 iterations. Training stopped.\n",
      "Max accuracy: 0.842380940914154\n"
     ]
    },
    {
     "name": "stderr",
     "output_type": "stream",
     "text": [
      "\n"
     ]
    },
    {
     "data": {
      "image/png": "[encoded data removed]",
      "text/plain": [
       "<Figure size 640x480 with 1 Axes>"
      ]
     },
     "metadata": {},
     "output_type": "display_data"
    }
   ],
   "source": [
    "model = FwdNN2()\n",
    "optimizer_adam = torch.optim.Adam(model.parameters())\n",
    "early_stopping_train(model, loss_fn, optimizer_adam, train_loader=norm_train_loader, val_loader=norm_val_loader,\n",
    "                     not_improved_limit=10, print_step=15)"
   ]
  },
  {
   "cell_type": "markdown",
   "metadata": {},
   "source": [
    "Standartizace:"
   ]
  },
  {
   "cell_type": "code",
   "execution_count": 482,
   "metadata": {},
   "outputs": [
    {
     "name": "stderr",
     "output_type": "stream",
     "text": [
      "  1%|▍                                          | 1/100 [00:09<15:08,  9.18s/it]"
     ]
    },
    {
     "name": "stdout",
     "output_type": "stream",
     "text": [
      "Epoch: 1, TRAIN loss: 0.747, VALIDATION loss: 0.577, ACC: 0.796\n"
     ]
    },
    {
     "name": "stderr",
     "output_type": "stream",
     "text": [
      " 15%|██████▎                                   | 15/100 [01:32<08:24,  5.94s/it]"
     ]
    },
    {
     "name": "stdout",
     "output_type": "stream",
     "text": [
      "Epoch: 15, TRAIN loss: 0.304, VALIDATION loss: 0.500, ACC: 0.839\n"
     ]
    },
    {
     "name": "stderr",
     "output_type": "stream",
     "text": [
      " 17%|███████▏                                  | 17/100 [01:47<08:44,  6.32s/it]"
     ]
    },
    {
     "name": "stdout",
     "output_type": "stream",
     "text": [
      "Model hasn't improved in the last 10 iterations. Training stopped.\n",
      "Max accuracy: 0.8403571248054504\n"
     ]
    },
    {
     "name": "stderr",
     "output_type": "stream",
     "text": [
      "\n"
     ]
    },
    {
     "data": {
      "image/png": "[encoded data removed]",
      "text/plain": [
       "<Figure size 640x480 with 1 Axes>"
      ]
     },
     "metadata": {},
     "output_type": "display_data"
    }
   ],
   "source": [
    "model = FwdNN2()\n",
    "optimizer_adam = torch.optim.Adam(model.parameters())\n",
    "early_stopping_train(model, loss_fn, optimizer_adam, train_loader=std_train_loader, val_loader=std_val_loader,\n",
    "                     not_improved_limit=10, print_step=15)"
   ]
  },
  {
   "cell_type": "markdown",
   "metadata": {},
   "source": [
    "Vypadá to, že standartizace i normalizace výsledky o něco zlepšila. U obou přesnost přesáhla 84%, ale normalizace byla o trochu lepší.\n",
    "\n",
    "Jako poslední pokus u dopředné sítě zkusím ještě na normalizovaná data použít větší model s dropoutem."
   ]
  },
  {
   "cell_type": "code",
   "execution_count": 483,
   "metadata": {},
   "outputs": [
    {
     "name": "stderr",
     "output_type": "stream",
     "text": [
      "  1%|▍                                          | 1/100 [00:07<12:21,  7.49s/it]"
     ]
    },
    {
     "name": "stdout",
     "output_type": "stream",
     "text": [
      "Epoch: 1, TRAIN loss: 0.931, VALIDATION loss: 0.625, ACC: 0.757\n"
     ]
    },
    {
     "name": "stderr",
     "output_type": "stream",
     "text": [
      " 15%|██████▎                                   | 15/100 [01:54<11:01,  7.78s/it]"
     ]
    },
    {
     "name": "stdout",
     "output_type": "stream",
     "text": [
      "Epoch: 15, TRAIN loss: 0.440, VALIDATION loss: 0.433, ACC: 0.836\n"
     ]
    },
    {
     "name": "stderr",
     "output_type": "stream",
     "text": [
      " 30%|████████████▌                             | 30/100 [03:44<08:40,  7.43s/it]"
     ]
    },
    {
     "name": "stdout",
     "output_type": "stream",
     "text": [
      "Epoch: 30, TRAIN loss: 0.397, VALIDATION loss: 0.408, ACC: 0.850\n"
     ]
    },
    {
     "name": "stderr",
     "output_type": "stream",
     "text": [
      " 37%|███████████████▌                          | 37/100 [04:43<08:02,  7.66s/it]"
     ]
    },
    {
     "name": "stdout",
     "output_type": "stream",
     "text": [
      "Model hasn't improved in the last 10 iterations. Training stopped.\n",
      "Max accuracy: 0.8515475988388062\n"
     ]
    },
    {
     "name": "stderr",
     "output_type": "stream",
     "text": [
      "\n"
     ]
    },
    {
     "data": {
      "image/png": "[encoded data removed]",
      "text/plain": [
       "<Figure size 640x480 with 1 Axes>"
      ]
     },
     "metadata": {},
     "output_type": "display_data"
    }
   ],
   "source": [
    "model = FwdNN3_dropout()\n",
    "optimizer_adam = torch.optim.Adam(model.parameters())\n",
    "early_stopping_train(model, loss_fn, optimizer_adam, train_loader=norm_train_loader, val_loader=norm_val_loader,\n",
    "                     not_improved_limit=10, print_step=15)"
   ]
  },
  {
   "cell_type": "markdown",
   "metadata": {},
   "source": [
    "Normalizace pomohla, přesnost se zvýšila na 85%.\n",
    "\n",
    "## Konvoluční neuronové sítě\n",
    "\n",
    "Jak jsem již psal výše, konvoluční neuronové sítě bývají na klasifikaci obrázků často lepší, protože jim stačí výrazně méně parametrů než dopředným sítím a mohou být proto o dost hlubší. Další jejich výhodou je i efektivní trénování na grafických kartách, kde jde konvoluce rychle počítat.\n",
    "\n",
    "Nejprve vytvořím menší konvoluční síť s maxpoolingem, na které otestuji, jesltli má normalizace nebo standartizace stejně pozitivní vliv na výslednou přesnost jako u dopředných sítí výše.\n",
    "\n",
    "Na trénování použiji stejné funkce jako u dopředných sítí a ztrátovou funkci budu používat také stejnou."
   ]
  },
  {
   "cell_type": "code",
   "execution_count": 484,
   "metadata": {},
   "outputs": [],
   "source": [
    "#get one batch for testing layer dimensions\n",
    "dataiter = iter(train_loader)\n",
    "images, labels = next(dataiter)"
   ]
  },
  {
   "cell_type": "code",
   "execution_count": 485,
   "metadata": {},
   "outputs": [],
   "source": [
    "class ConvNN(nn.Module):\n",
    "    def __init__(self):\n",
    "        super().__init__()\n",
    "        self.conv1 = nn.Conv2d(1, 32, 3)\n",
    "        self.pool1 = nn.MaxPool2d(kernel_size=2)\n",
    "        self.conv2 = nn.Conv2d(32, 16, 3)\n",
    "        self.pool2 = nn.MaxPool2d(kernel_size=2)\n",
    "        self.fco = nn.Linear(16*6*6, 10)\n",
    "\n",
    "    def forward(self, x):\n",
    "        x = F.relu(self.conv1(x))\n",
    "        x = self.pool1(x)\n",
    "        x = F.relu(self.conv2(x))\n",
    "        x = self.pool2(x)\n",
    "        x = x.flatten(start_dim = 1)\n",
    "        x = self.fco(x)\n",
    "        return x"
   ]
  },
  {
   "cell_type": "code",
   "execution_count": 486,
   "metadata": {},
   "outputs": [],
   "source": [
    "#model = ConvNN()\n",
    "#outputs = model(images)"
   ]
  },
  {
   "cell_type": "code",
   "execution_count": 492,
   "metadata": {},
   "outputs": [
    {
     "name": "stdout",
     "output_type": "stream",
     "text": [
      "Total number of parameters: 10714\n"
     ]
    }
   ],
   "source": [
    "model = ConvNN()\n",
    "\n",
    "total_param_count(model)"
   ]
  },
  {
   "cell_type": "markdown",
   "metadata": {},
   "source": [
    "Je vidět, že tento model má výrazně méně parametrů, než menší model u dopředné sítě.\n",
    "\n",
    "Otestuji, jakých výsledků síť dosáhne na neupravených datech."
   ]
  },
  {
   "cell_type": "code",
   "execution_count": 495,
   "metadata": {},
   "outputs": [
    {
     "name": "stderr",
     "output_type": "stream",
     "text": [
      "  1%|▍                                          | 1/100 [00:24<40:50, 24.76s/it]"
     ]
    },
    {
     "name": "stdout",
     "output_type": "stream",
     "text": [
      "Epoch: 1, TRAIN loss: 0.414, VALIDATION loss: 0.432, ACC: 0.849\n"
     ]
    },
    {
     "name": "stderr",
     "output_type": "stream",
     "text": [
      "  5%|██▏                                        | 5/100 [01:56<36:04, 22.78s/it]"
     ]
    },
    {
     "name": "stdout",
     "output_type": "stream",
     "text": [
      "Epoch: 5, TRAIN loss: 0.353, VALIDATION loss: 0.433, ACC: 0.852\n"
     ]
    },
    {
     "name": "stderr",
     "output_type": "stream",
     "text": [
      "  7%|███                                        | 7/100 [02:56<39:09, 25.26s/it]"
     ]
    },
    {
     "name": "stdout",
     "output_type": "stream",
     "text": [
      "Model hasn't improved in the last 5 iterations. Training stopped.\n",
      "Max accuracy: 0.8517857193946838\n"
     ]
    },
    {
     "name": "stderr",
     "output_type": "stream",
     "text": [
      "\n"
     ]
    }
   ],
   "source": [
    "optimizer_adam = torch.optim.Adam(model.parameters())\n",
    "early_stopping_train(model, loss_fn, optimizer_adam, show_plot=False)"
   ]
  },
  {
   "cell_type": "markdown",
   "metadata": {},
   "source": [
    "Hned na první pokus konvoluční síť dosáhla stejných výsledků, jako nejlepší model dopředné neuoronové sítě výše.\n",
    "\n",
    "Zkusím ještě, jestli výslednou přesnost nezvýší normalizace nebo standartizace dat."
   ]
  },
  {
   "cell_type": "code",
   "execution_count": 496,
   "metadata": {},
   "outputs": [
    {
     "name": "stderr",
     "output_type": "stream",
     "text": [
      "  1%|▍                                          | 1/100 [00:20<34:07, 20.68s/it]"
     ]
    },
    {
     "name": "stdout",
     "output_type": "stream",
     "text": [
      "Epoch: 1, TRAIN loss: 0.749, VALIDATION loss: 0.578, ACC: 0.793\n"
     ]
    },
    {
     "name": "stderr",
     "output_type": "stream",
     "text": [
      "  5%|██▏                                        | 5/100 [01:43<32:37, 20.60s/it]"
     ]
    },
    {
     "name": "stdout",
     "output_type": "stream",
     "text": [
      "Epoch: 5, TRAIN loss: 0.403, VALIDATION loss: 0.406, ACC: 0.850\n"
     ]
    },
    {
     "name": "stderr",
     "output_type": "stream",
     "text": [
      " 10%|████▏                                     | 10/100 [03:26<30:52, 20.58s/it]"
     ]
    },
    {
     "name": "stdout",
     "output_type": "stream",
     "text": [
      "Epoch: 10, TRAIN loss: 0.343, VALIDATION loss: 0.354, ACC: 0.874\n"
     ]
    },
    {
     "name": "stderr",
     "output_type": "stream",
     "text": [
      " 13%|█████▍                                    | 13/100 [04:48<32:13, 22.23s/it]"
     ]
    },
    {
     "name": "stdout",
     "output_type": "stream",
     "text": [
      "Model hasn't improved in the last 5 iterations. Training stopped.\n",
      "Max accuracy: 0.8776190280914307\n"
     ]
    },
    {
     "name": "stderr",
     "output_type": "stream",
     "text": [
      "\n"
     ]
    }
   ],
   "source": [
    "#normalized data\n",
    "model = ConvNN()\n",
    "optimizer_adam = torch.optim.Adam(model.parameters())\n",
    "early_stopping_train(model, loss_fn, optimizer_adam, train_loader=norm_train_loader,\n",
    "                     val_loader=norm_val_loader, show_plot=False)"
   ]
  },
  {
   "cell_type": "code",
   "execution_count": 497,
   "metadata": {},
   "outputs": [
    {
     "name": "stderr",
     "output_type": "stream",
     "text": [
      "  1%|▍                                          | 1/100 [00:21<35:06, 21.28s/it]"
     ]
    },
    {
     "name": "stdout",
     "output_type": "stream",
     "text": [
      "Epoch: 1, TRAIN loss: 0.647, VALIDATION loss: 0.518, ACC: 0.814\n"
     ]
    },
    {
     "name": "stderr",
     "output_type": "stream",
     "text": [
      "  5%|██▏                                        | 5/100 [01:45<33:12, 20.97s/it]"
     ]
    },
    {
     "name": "stdout",
     "output_type": "stream",
     "text": [
      "Epoch: 5, TRAIN loss: 0.361, VALIDATION loss: 0.407, ACC: 0.858\n"
     ]
    },
    {
     "name": "stderr",
     "output_type": "stream",
     "text": [
      " 10%|████▏                                     | 10/100 [03:29<31:18, 20.88s/it]"
     ]
    },
    {
     "name": "stdout",
     "output_type": "stream",
     "text": [
      "Epoch: 10, TRAIN loss: 0.301, VALIDATION loss: 0.380, ACC: 0.872\n"
     ]
    },
    {
     "name": "stderr",
     "output_type": "stream",
     "text": [
      " 15%|██████▎                                   | 15/100 [05:13<29:20, 20.72s/it]"
     ]
    },
    {
     "name": "stdout",
     "output_type": "stream",
     "text": [
      "Epoch: 15, TRAIN loss: 0.273, VALIDATION loss: 0.393, ACC: 0.866\n"
     ]
    },
    {
     "name": "stderr",
     "output_type": "stream",
     "text": [
      " 18%|███████▌                                  | 18/100 [06:35<30:03, 21.99s/it]"
     ]
    },
    {
     "name": "stdout",
     "output_type": "stream",
     "text": [
      "Model hasn't improved in the last 5 iterations. Training stopped.\n",
      "Max accuracy: 0.8722618818283081\n"
     ]
    },
    {
     "name": "stderr",
     "output_type": "stream",
     "text": [
      "\n"
     ]
    }
   ],
   "source": [
    "#standartized data\n",
    "model = ConvNN()\n",
    "optimizer_adam = torch.optim.Adam(model.parameters())\n",
    "early_stopping_train(model, loss_fn, optimizer_adam, train_loader=std_train_loader,\n",
    "                     val_loader=std_val_loader, show_plot=False)"
   ]
  },
  {
   "cell_type": "markdown",
   "metadata": {},
   "source": [
    "MinMax normalizace opět výslednou přesnost výrazně zlepšila na 87,7%. Dále zkusím, jestli volba jiných *optimizerů* nepovede k nižší validační chybě nebo alespoň k rychlejšímu poklesu chyby.\n",
    "\n",
    "RMSprop:"
   ]
  },
  {
   "cell_type": "code",
   "execution_count": 498,
   "metadata": {},
   "outputs": [
    {
     "name": "stderr",
     "output_type": "stream",
     "text": [
      "  1%|▍                                          | 1/100 [00:19<31:56, 19.36s/it]"
     ]
    },
    {
     "name": "stdout",
     "output_type": "stream",
     "text": [
      "Epoch: 1, TRAIN loss: 2.415, VALIDATION loss: 2.305, ACC: 0.101\n"
     ]
    },
    {
     "name": "stderr",
     "output_type": "stream",
     "text": [
      "  5%|██▏                                        | 5/100 [01:36<30:33, 19.30s/it]"
     ]
    },
    {
     "name": "stdout",
     "output_type": "stream",
     "text": [
      "Epoch: 5, TRAIN loss: 2.304, VALIDATION loss: 2.304, ACC: 0.095\n"
     ]
    },
    {
     "name": "stderr",
     "output_type": "stream",
     "text": [
      "  6%|██▌                                        | 6/100 [02:16<35:35, 22.72s/it]"
     ]
    },
    {
     "name": "stdout",
     "output_type": "stream",
     "text": [
      "Model hasn't improved in the last 5 iterations. Training stopped.\n",
      "Max accuracy: 0.10166666656732559\n"
     ]
    },
    {
     "name": "stderr",
     "output_type": "stream",
     "text": [
      "\n"
     ]
    }
   ],
   "source": [
    "model = ConvNN()\n",
    "optimizer_RMSprop = torch.optim.RMSprop(model.parameters())\n",
    "early_stopping_train(model, loss_fn, optimizer_RMSprop, train_loader=norm_train_loader,\n",
    "                     val_loader=norm_val_loader, show_plot=False)"
   ]
  },
  {
   "cell_type": "markdown",
   "metadata": {},
   "source": [
    "Adagrad:"
   ]
  },
  {
   "cell_type": "code",
   "execution_count": 499,
   "metadata": {},
   "outputs": [
    {
     "name": "stderr",
     "output_type": "stream",
     "text": [
      "  1%|▍                                          | 1/100 [00:20<33:08, 20.09s/it]"
     ]
    },
    {
     "name": "stdout",
     "output_type": "stream",
     "text": [
      "Epoch: 1, TRAIN loss: 0.712, VALIDATION loss: 0.586, ACC: 0.795\n"
     ]
    },
    {
     "name": "stderr",
     "output_type": "stream",
     "text": [
      "  5%|██▏                                        | 5/100 [01:40<31:51, 20.12s/it]"
     ]
    },
    {
     "name": "stdout",
     "output_type": "stream",
     "text": [
      "Epoch: 5, TRAIN loss: 0.508, VALIDATION loss: 0.515, ACC: 0.818\n"
     ]
    },
    {
     "name": "stderr",
     "output_type": "stream",
     "text": [
      " 10%|████▏                                     | 10/100 [03:21<30:07, 20.08s/it]"
     ]
    },
    {
     "name": "stdout",
     "output_type": "stream",
     "text": [
      "Epoch: 10, TRAIN loss: 0.468, VALIDATION loss: 0.463, ACC: 0.835\n"
     ]
    },
    {
     "name": "stderr",
     "output_type": "stream",
     "text": [
      " 15%|██████▎                                   | 15/100 [05:02<28:45, 20.31s/it]"
     ]
    },
    {
     "name": "stdout",
     "output_type": "stream",
     "text": [
      "Epoch: 15, TRAIN loss: 0.445, VALIDATION loss: 0.448, ACC: 0.841\n"
     ]
    },
    {
     "name": "stderr",
     "output_type": "stream",
     "text": [
      " 20%|████████▍                                 | 20/100 [06:43<26:55, 20.19s/it]"
     ]
    },
    {
     "name": "stdout",
     "output_type": "stream",
     "text": [
      "Epoch: 20, TRAIN loss: 0.430, VALIDATION loss: 0.435, ACC: 0.848\n"
     ]
    },
    {
     "name": "stderr",
     "output_type": "stream",
     "text": [
      " 25%|██████████▌                               | 25/100 [08:24<25:06, 20.09s/it]"
     ]
    },
    {
     "name": "stdout",
     "output_type": "stream",
     "text": [
      "Epoch: 25, TRAIN loss: 0.419, VALIDATION loss: 0.428, ACC: 0.849\n"
     ]
    },
    {
     "name": "stderr",
     "output_type": "stream",
     "text": [
      " 30%|████████████▌                             | 30/100 [10:04<23:23, 20.04s/it]"
     ]
    },
    {
     "name": "stdout",
     "output_type": "stream",
     "text": [
      "Epoch: 30, TRAIN loss: 0.411, VALIDATION loss: 0.426, ACC: 0.850\n"
     ]
    },
    {
     "name": "stderr",
     "output_type": "stream",
     "text": [
      " 35%|██████████████▋                           | 35/100 [11:45<21:57, 20.27s/it]"
     ]
    },
    {
     "name": "stdout",
     "output_type": "stream",
     "text": [
      "Epoch: 35, TRAIN loss: 0.403, VALIDATION loss: 0.414, ACC: 0.855\n"
     ]
    },
    {
     "name": "stderr",
     "output_type": "stream",
     "text": [
      " 40%|████████████████▊                         | 40/100 [13:30<20:22, 20.37s/it]"
     ]
    },
    {
     "name": "stdout",
     "output_type": "stream",
     "text": [
      "Epoch: 40, TRAIN loss: 0.398, VALIDATION loss: 0.410, ACC: 0.854\n"
     ]
    },
    {
     "name": "stderr",
     "output_type": "stream",
     "text": [
      " 45%|██████████████████▉                       | 45/100 [15:10<18:22, 20.04s/it]"
     ]
    },
    {
     "name": "stdout",
     "output_type": "stream",
     "text": [
      "Epoch: 45, TRAIN loss: 0.393, VALIDATION loss: 0.406, ACC: 0.857\n"
     ]
    },
    {
     "name": "stderr",
     "output_type": "stream",
     "text": [
      " 50%|█████████████████████                     | 50/100 [16:51<16:48, 20.18s/it]"
     ]
    },
    {
     "name": "stdout",
     "output_type": "stream",
     "text": [
      "Epoch: 50, TRAIN loss: 0.388, VALIDATION loss: 0.403, ACC: 0.857\n"
     ]
    },
    {
     "name": "stderr",
     "output_type": "stream",
     "text": [
      " 55%|███████████████████████                   | 55/100 [18:32<15:04, 20.10s/it]"
     ]
    },
    {
     "name": "stdout",
     "output_type": "stream",
     "text": [
      "Epoch: 55, TRAIN loss: 0.384, VALIDATION loss: 0.400, ACC: 0.860\n"
     ]
    },
    {
     "name": "stderr",
     "output_type": "stream",
     "text": [
      " 60%|█████████████████████████▏                | 60/100 [20:12<13:20, 20.02s/it]"
     ]
    },
    {
     "name": "stdout",
     "output_type": "stream",
     "text": [
      "Epoch: 60, TRAIN loss: 0.381, VALIDATION loss: 0.397, ACC: 0.860\n"
     ]
    },
    {
     "name": "stderr",
     "output_type": "stream",
     "text": [
      " 65%|███████████████████████████▎              | 65/100 [21:52<11:40, 20.01s/it]"
     ]
    },
    {
     "name": "stdout",
     "output_type": "stream",
     "text": [
      "Epoch: 65, TRAIN loss: 0.377, VALIDATION loss: 0.395, ACC: 0.860\n"
     ]
    },
    {
     "name": "stderr",
     "output_type": "stream",
     "text": [
      " 70%|█████████████████████████████▍            | 70/100 [23:32<10:00, 20.02s/it]"
     ]
    },
    {
     "name": "stdout",
     "output_type": "stream",
     "text": [
      "Epoch: 70, TRAIN loss: 0.374, VALIDATION loss: 0.392, ACC: 0.861\n"
     ]
    },
    {
     "name": "stderr",
     "output_type": "stream",
     "text": [
      " 75%|███████████████████████████████▌          | 75/100 [25:12<08:18, 19.95s/it]"
     ]
    },
    {
     "name": "stdout",
     "output_type": "stream",
     "text": [
      "Epoch: 75, TRAIN loss: 0.372, VALIDATION loss: 0.390, ACC: 0.862\n"
     ]
    },
    {
     "name": "stderr",
     "output_type": "stream",
     "text": [
      " 80%|█████████████████████████████████▌        | 80/100 [26:52<06:38, 19.93s/it]"
     ]
    },
    {
     "name": "stdout",
     "output_type": "stream",
     "text": [
      "Epoch: 80, TRAIN loss: 0.369, VALIDATION loss: 0.388, ACC: 0.863\n"
     ]
    },
    {
     "name": "stderr",
     "output_type": "stream",
     "text": [
      " 85%|███████████████████████████████████▋      | 85/100 [28:32<05:00, 20.03s/it]"
     ]
    },
    {
     "name": "stdout",
     "output_type": "stream",
     "text": [
      "Epoch: 85, TRAIN loss: 0.367, VALIDATION loss: 0.387, ACC: 0.863\n"
     ]
    },
    {
     "name": "stderr",
     "output_type": "stream",
     "text": [
      " 90%|█████████████████████████████████████▊    | 90/100 [30:12<03:19, 19.98s/it]"
     ]
    },
    {
     "name": "stdout",
     "output_type": "stream",
     "text": [
      "Epoch: 90, TRAIN loss: 0.365, VALIDATION loss: 0.385, ACC: 0.864\n"
     ]
    },
    {
     "name": "stderr",
     "output_type": "stream",
     "text": [
      " 95%|███████████████████████████████████████▉  | 95/100 [31:52<01:40, 20.02s/it]"
     ]
    },
    {
     "name": "stdout",
     "output_type": "stream",
     "text": [
      "Epoch: 95, TRAIN loss: 0.363, VALIDATION loss: 0.387, ACC: 0.862\n"
     ]
    },
    {
     "name": "stderr",
     "output_type": "stream",
     "text": [
      "100%|█████████████████████████████████████████| 100/100 [33:32<00:00, 20.12s/it]"
     ]
    },
    {
     "name": "stdout",
     "output_type": "stream",
     "text": [
      "Epoch: 100, TRAIN loss: 0.361, VALIDATION loss: 0.387, ACC: 0.861\n",
      "Max accuracy: 0.866190493106842\n"
     ]
    },
    {
     "name": "stderr",
     "output_type": "stream",
     "text": [
      "\n"
     ]
    }
   ],
   "source": [
    "model = ConvNN()\n",
    "optimizer_Adagrad = torch.optim.Adagrad(model.parameters())\n",
    "early_stopping_train(model, loss_fn, optimizer_Adagrad, train_loader=norm_train_loader,\n",
    "                     val_loader=norm_val_loader, show_plot=False)"
   ]
  },
  {
   "cell_type": "markdown",
   "metadata": {},
   "source": [
    "AdamW:"
   ]
  },
  {
   "cell_type": "code",
   "execution_count": 500,
   "metadata": {},
   "outputs": [
    {
     "name": "stderr",
     "output_type": "stream",
     "text": [
      "  1%|▍                                          | 1/100 [00:20<33:41, 20.42s/it]"
     ]
    },
    {
     "name": "stdout",
     "output_type": "stream",
     "text": [
      "Epoch: 1, TRAIN loss: 0.716, VALIDATION loss: 0.542, ACC: 0.804\n"
     ]
    },
    {
     "name": "stderr",
     "output_type": "stream",
     "text": [
      "  5%|██▏                                        | 5/100 [01:42<32:31, 20.55s/it]"
     ]
    },
    {
     "name": "stdout",
     "output_type": "stream",
     "text": [
      "Epoch: 5, TRAIN loss: 0.380, VALIDATION loss: 0.374, ACC: 0.863\n"
     ]
    },
    {
     "name": "stderr",
     "output_type": "stream",
     "text": [
      " 10%|████▏                                     | 10/100 [03:25<30:43, 20.48s/it]"
     ]
    },
    {
     "name": "stdout",
     "output_type": "stream",
     "text": [
      "Epoch: 10, TRAIN loss: 0.323, VALIDATION loss: 0.345, ACC: 0.874\n"
     ]
    },
    {
     "name": "stderr",
     "output_type": "stream",
     "text": [
      " 15%|██████▎                                   | 15/100 [05:07<28:53, 20.40s/it]"
     ]
    },
    {
     "name": "stdout",
     "output_type": "stream",
     "text": [
      "Epoch: 15, TRAIN loss: 0.294, VALIDATION loss: 0.331, ACC: 0.881\n"
     ]
    },
    {
     "name": "stderr",
     "output_type": "stream",
     "text": [
      " 20%|████████▍                                 | 20/100 [06:48<27:04, 20.31s/it]"
     ]
    },
    {
     "name": "stdout",
     "output_type": "stream",
     "text": [
      "Epoch: 20, TRAIN loss: 0.272, VALIDATION loss: 0.327, ACC: 0.882\n"
     ]
    },
    {
     "name": "stderr",
     "output_type": "stream",
     "text": [
      " 22%|█████████▏                                | 22/100 [07:50<27:47, 21.38s/it]"
     ]
    },
    {
     "name": "stdout",
     "output_type": "stream",
     "text": [
      "Model hasn't improved in the last 5 iterations. Training stopped.\n",
      "Max accuracy: 0.8865476250648499\n"
     ]
    },
    {
     "name": "stderr",
     "output_type": "stream",
     "text": [
      "\n"
     ]
    }
   ],
   "source": [
    "model = ConvNN()\n",
    "optimizer_AdamW = torch.optim.AdamW(model.parameters())\n",
    "early_stopping_train(model, loss_fn, optimizer_AdamW, train_loader=norm_train_loader,\n",
    "                     val_loader=norm_val_loader, show_plot=False)"
   ]
  },
  {
   "cell_type": "markdown",
   "metadata": {},
   "source": [
    "RMSprop dosáhl validační přesnosti pouze 10%, takže se nijak nedokázal zlepšit od náhodného modelu. Adagrad vypadal lépe, ale k minimu konvergoval výrazně pomaleji než optimizer Adam. AdamW oproti tomu maximální přesnost ještě o procento navýšil na téměř 89%. \n",
    "\n",
    "Budu pokračovat s *optimizerem* Adam, ale u finálního modelu vyzkouším i AdamW.\n",
    "\n",
    "Dále vyzkouším různé velikosti a složení konvoluční sítě. Nejprve síť pouze trochu zvětším přidáním další konvoluční vrstvy a vyšším početem kanálů."
   ]
  },
  {
   "cell_type": "code",
   "execution_count": 165,
   "metadata": {},
   "outputs": [],
   "source": [
    "class ConvNN2(nn.Module):\n",
    "    def __init__(self):\n",
    "        super().__init__()\n",
    "        self.conv1 = nn.Conv2d(1, 64, 3)\n",
    "        self.pool1 = nn.MaxPool2d(kernel_size=2)\n",
    "        self.conv2 = nn.Conv2d(64, 32, 3)\n",
    "        self.pool2 = nn.MaxPool2d(kernel_size=2)\n",
    "        self.conv3 = nn.Conv2d(32, 16, 3)\n",
    "        self.fco = nn.Linear(16*4*4, 10)\n",
    "\n",
    "    def forward(self, x):\n",
    "        x = F.relu(self.conv1(x))\n",
    "        x = self.pool1(x)\n",
    "        x = F.relu(self.conv2(x))\n",
    "        x = self.pool2(x)\n",
    "        x = F.relu(self.conv3(x))\n",
    "        x = x.flatten(start_dim = 1)\n",
    "        x = self.fco(x)\n",
    "        return x"
   ]
  },
  {
   "cell_type": "code",
   "execution_count": 501,
   "metadata": {},
   "outputs": [
    {
     "name": "stderr",
     "output_type": "stream",
     "text": [
      "  1%|▍                                        | 1/100 [00:39<1:05:42, 39.82s/it]"
     ]
    },
    {
     "name": "stdout",
     "output_type": "stream",
     "text": [
      "Epoch: 1, TRAIN loss: 0.738, VALIDATION loss: 0.543, ACC: 0.801\n"
     ]
    },
    {
     "name": "stderr",
     "output_type": "stream",
     "text": [
      "  5%|██                                       | 5/100 [03:17<1:02:34, 39.52s/it]"
     ]
    },
    {
     "name": "stdout",
     "output_type": "stream",
     "text": [
      "Epoch: 5, TRAIN loss: 0.390, VALIDATION loss: 0.384, ACC: 0.859\n"
     ]
    },
    {
     "name": "stderr",
     "output_type": "stream",
     "text": [
      " 10%|████▏                                     | 10/100 [06:34<58:57, 39.31s/it]"
     ]
    },
    {
     "name": "stdout",
     "output_type": "stream",
     "text": [
      "Epoch: 10, TRAIN loss: 0.315, VALIDATION loss: 0.344, ACC: 0.873\n"
     ]
    },
    {
     "name": "stderr",
     "output_type": "stream",
     "text": [
      " 15%|██████▎                                   | 15/100 [09:58<57:00, 40.24s/it]"
     ]
    },
    {
     "name": "stdout",
     "output_type": "stream",
     "text": [
      "Epoch: 15, TRAIN loss: 0.273, VALIDATION loss: 0.336, ACC: 0.878\n"
     ]
    },
    {
     "name": "stderr",
     "output_type": "stream",
     "text": [
      " 18%|███████▌                                  | 18/100 [12:36<57:28, 42.05s/it]"
     ]
    },
    {
     "name": "stdout",
     "output_type": "stream",
     "text": [
      "Model hasn't improved in the last 5 iterations. Training stopped.\n",
      "Max accuracy: 0.8794047832489014\n"
     ]
    },
    {
     "name": "stderr",
     "output_type": "stream",
     "text": [
      "\n"
     ]
    }
   ],
   "source": [
    "model = ConvNN2()\n",
    "optimizer_adam = torch.optim.Adam(model.parameters())\n",
    "early_stopping_train(model, loss_fn, optimizer_adam, train_loader=norm_train_loader,\n",
    "                     val_loader=norm_val_loader, show_plot=False)"
   ]
  },
  {
   "cell_type": "markdown",
   "metadata": {},
   "source": [
    "Pouhé zvětšení sítě nepomohlo. Zkusím za konvoluční vrstvy přidat další dvě lineární."
   ]
  },
  {
   "cell_type": "code",
   "execution_count": 218,
   "metadata": {},
   "outputs": [],
   "source": [
    "class ConvNN3(nn.Module):\n",
    "    def __init__(self):\n",
    "        super().__init__()\n",
    "        self.conv1 = nn.Conv2d(1, 64, 3)\n",
    "        self.pool1 = nn.MaxPool2d(kernel_size=2)\n",
    "        self.conv2 = nn.Conv2d(64, 32, 3)\n",
    "        self.pool2 = nn.MaxPool2d(kernel_size=2)\n",
    "        self.fc1 = nn.Linear(32*6*6, 256)\n",
    "        self.fc2 = nn.Linear(256, 64)\n",
    "        self.fco = nn.Linear(64, 10)\n",
    "\n",
    "    def forward(self, x):\n",
    "        x = F.relu(self.conv1(x))\n",
    "        x = self.pool1(x)\n",
    "        x = F.relu(self.conv2(x))\n",
    "        x = self.pool2(x)\n",
    "        x = x.flatten(start_dim = 1)\n",
    "        x = F.relu(self.fc1(x))\n",
    "        x = F.relu(self.fc2(x))\n",
    "        x = self.fco(x)\n",
    "        return x"
   ]
  },
  {
   "cell_type": "code",
   "execution_count": 503,
   "metadata": {},
   "outputs": [
    {
     "name": "stderr",
     "output_type": "stream",
     "text": [
      "  1%|▍                                        | 1/100 [00:43<1:10:58, 43.02s/it]"
     ]
    },
    {
     "name": "stdout",
     "output_type": "stream",
     "text": [
      "Epoch: 1, TRAIN loss: 0.655, VALIDATION loss: 0.436, ACC: 0.840\n"
     ]
    },
    {
     "name": "stderr",
     "output_type": "stream",
     "text": [
      "  5%|██                                       | 5/100 [03:41<1:10:53, 44.77s/it]"
     ]
    },
    {
     "name": "stdout",
     "output_type": "stream",
     "text": [
      "Epoch: 5, TRAIN loss: 0.293, VALIDATION loss: 0.322, ACC: 0.876\n"
     ]
    },
    {
     "name": "stderr",
     "output_type": "stream",
     "text": [
      " 10%|████                                    | 10/100 [07:26<1:08:10, 45.45s/it]"
     ]
    },
    {
     "name": "stdout",
     "output_type": "stream",
     "text": [
      "Epoch: 10, TRAIN loss: 0.182, VALIDATION loss: 0.317, ACC: 0.892\n"
     ]
    },
    {
     "name": "stderr",
     "output_type": "stream",
     "text": [
      " 11%|████▍                                   | 11/100 [08:57<1:12:27, 48.85s/it]"
     ]
    },
    {
     "name": "stdout",
     "output_type": "stream",
     "text": [
      "Model hasn't improved in the last 5 iterations. Training stopped.\n",
      "Max accuracy: 0.8942857384681702\n"
     ]
    },
    {
     "name": "stderr",
     "output_type": "stream",
     "text": [
      "\n"
     ]
    },
    {
     "data": {
      "image/png": "[encoded data removed]",
      "text/plain": [
       "<Figure size 640x480 with 1 Axes>"
      ]
     },
     "metadata": {},
     "output_type": "display_data"
    }
   ],
   "source": [
    "model = ConvNN3()\n",
    "optimizer_adam = torch.optim.Adam(model.parameters())\n",
    "lists = early_stopping_train(model, loss_fn, optimizer_adam, train_loader=norm_train_loader,\n",
    "                             val_loader=norm_val_loader)"
   ]
  },
  {
   "cell_type": "markdown",
   "metadata": {},
   "source": [
    "Přidání plně propojených vrstev pomohlo a validační přesnost překročila 89%.\n",
    "\n",
    "Na grafu můžeme vidět, že se model přeučil na trénovacích datech - od 4. epochy už validační chyba téměř neklesá a stagnuje okolo honoty 0.3, ale trénovací pořád klesá směrem k 0. Pokusím se tomu zamezit regularizací.\n",
    "\n",
    "Nejprve zkusím přidat opět L2 regularizaci pomocí parametru `weight_decay`."
   ]
  },
  {
   "cell_type": "code",
   "execution_count": 505,
   "metadata": {},
   "outputs": [
    {
     "name": "stderr",
     "output_type": "stream",
     "text": [
      "  1%|▍                                        | 1/100 [00:42<1:10:10, 42.53s/it]"
     ]
    },
    {
     "name": "stdout",
     "output_type": "stream",
     "text": [
      "Epoch: 1, TRAIN loss: 0.914, VALIDATION loss: 0.747, ACC: 0.712\n"
     ]
    },
    {
     "name": "stderr",
     "output_type": "stream",
     "text": [
      "  5%|██                                      | 5/100 [10:07<3:41:18, 139.78s/it]"
     ]
    },
    {
     "name": "stdout",
     "output_type": "stream",
     "text": [
      "Epoch: 5, TRAIN loss: 0.664, VALIDATION loss: 0.641, ACC: 0.767\n"
     ]
    },
    {
     "name": "stderr",
     "output_type": "stream",
     "text": [
      " 10%|███▉                                   | 10/100 [22:32<3:24:03, 136.04s/it]"
     ]
    },
    {
     "name": "stdout",
     "output_type": "stream",
     "text": [
      "Epoch: 10, TRAIN loss: 0.628, VALIDATION loss: 0.681, ACC: 0.742\n"
     ]
    },
    {
     "name": "stderr",
     "output_type": "stream",
     "text": [
      " 15%|█████▊                                 | 15/100 [32:43<2:56:04, 124.29s/it]"
     ]
    },
    {
     "name": "stdout",
     "output_type": "stream",
     "text": [
      "Epoch: 15, TRAIN loss: 0.616, VALIDATION loss: 0.595, ACC: 0.783\n"
     ]
    },
    {
     "name": "stderr",
     "output_type": "stream",
     "text": [
      " 19%|███████▍                               | 19/100 [42:25<3:00:52, 133.98s/it]"
     ]
    },
    {
     "name": "stdout",
     "output_type": "stream",
     "text": [
      "Model hasn't improved in the last 5 iterations. Training stopped.\n",
      "Max accuracy: 0.7873809337615967\n"
     ]
    },
    {
     "name": "stderr",
     "output_type": "stream",
     "text": [
      "\n"
     ]
    },
    {
     "data": {
      "image/png": "[encoded data removed]",
      "text/plain": [
       "<Figure size 640x480 with 1 Axes>"
      ]
     },
     "metadata": {},
     "output_type": "display_data"
    }
   ],
   "source": [
    "model = ConvNN3()\n",
    "optimizer_adam = torch.optim.Adam(model.parameters(), weight_decay=0.02)\n",
    "lists = early_stopping_train(model, loss_fn, optimizer_adam, train_loader=norm_train_loader, val_loader=norm_val_loader)"
   ]
  },
  {
   "cell_type": "markdown",
   "metadata": {},
   "source": [
    "L2 regularizace přesnost nezvýšila. Sice už nedochází k přeučení, ale validační ani trénovací chyba neklesá. Zkusím proto místo L2 regularizace použít dropout, který přidám s pravděpodobností 0.5 mezi konvoluční vrstvy a po první plně propojené vrstvě."
   ]
  },
  {
   "cell_type": "code",
   "execution_count": 506,
   "metadata": {},
   "outputs": [],
   "source": [
    "class ConvNN3_dropout(nn.Module):\n",
    "    def __init__(self):\n",
    "        super().__init__()\n",
    "        self.conv1 = nn.Conv2d(1, 64, 3)\n",
    "        self.pool1 = nn.MaxPool2d(kernel_size=2)\n",
    "        self.dropout1 = nn.Dropout(0.5)\n",
    "        self.conv2 = nn.Conv2d(64, 32, 3)\n",
    "        self.pool2 = nn.MaxPool2d(kernel_size=2)\n",
    "        self.fc1 = nn.Linear(32*6*6, 256)\n",
    "        self.dropout2 = nn.Dropout(0.5)\n",
    "        self.fc2 = nn.Linear(256, 64)\n",
    "        self.fco = nn.Linear(64, 10)\n",
    "\n",
    "    def forward(self, x):\n",
    "        x = F.relu(self.conv1(x))\n",
    "        x = self.pool1(x)\n",
    "        x = self.dropout1(x)\n",
    "        x = F.relu(self.conv2(x))\n",
    "        x = self.pool2(x)\n",
    "        x = x.flatten(start_dim = 1)\n",
    "        x = F.relu(self.fc1(x))\n",
    "        x = self.dropout2(x)\n",
    "        x = F.relu(self.fc2(x))\n",
    "        x = self.fco(x)\n",
    "        return x"
   ]
  },
  {
   "cell_type": "code",
   "execution_count": 507,
   "metadata": {},
   "outputs": [
    {
     "name": "stderr",
     "output_type": "stream",
     "text": [
      "  1%|▍                                        | 1/100 [00:45<1:15:41, 45.87s/it]"
     ]
    },
    {
     "name": "stdout",
     "output_type": "stream",
     "text": [
      "Epoch: 1, TRAIN loss: 0.821, VALIDATION loss: 0.516, ACC: 0.799\n"
     ]
    },
    {
     "name": "stderr",
     "output_type": "stream",
     "text": [
      "  5%|██                                       | 5/100 [03:47<1:11:57, 45.44s/it]"
     ]
    },
    {
     "name": "stdout",
     "output_type": "stream",
     "text": [
      "Epoch: 5, TRAIN loss: 0.425, VALIDATION loss: 0.340, ACC: 0.874\n"
     ]
    },
    {
     "name": "stderr",
     "output_type": "stream",
     "text": [
      " 10%|████                                    | 10/100 [07:31<1:07:06, 44.74s/it]"
     ]
    },
    {
     "name": "stdout",
     "output_type": "stream",
     "text": [
      "Epoch: 10, TRAIN loss: 0.348, VALIDATION loss: 0.295, ACC: 0.893\n"
     ]
    },
    {
     "name": "stderr",
     "output_type": "stream",
     "text": [
      " 15%|██████                                  | 15/100 [11:19<1:04:31, 45.55s/it]"
     ]
    },
    {
     "name": "stdout",
     "output_type": "stream",
     "text": [
      "Epoch: 15, TRAIN loss: 0.314, VALIDATION loss: 0.300, ACC: 0.893\n"
     ]
    },
    {
     "name": "stderr",
     "output_type": "stream",
     "text": [
      " 20%|████████                                | 20/100 [15:18<1:02:53, 47.17s/it]"
     ]
    },
    {
     "name": "stdout",
     "output_type": "stream",
     "text": [
      "Epoch: 20, TRAIN loss: 0.292, VALIDATION loss: 0.278, ACC: 0.899\n"
     ]
    },
    {
     "name": "stderr",
     "output_type": "stream",
     "text": [
      " 25%|██████████▌                               | 25/100 [19:12<57:52, 46.29s/it]"
     ]
    },
    {
     "name": "stdout",
     "output_type": "stream",
     "text": [
      "Epoch: 25, TRAIN loss: 0.279, VALIDATION loss: 0.286, ACC: 0.897\n"
     ]
    },
    {
     "name": "stderr",
     "output_type": "stream",
     "text": [
      " 25%|██████████▌                               | 25/100 [19:56<59:48, 47.84s/it]"
     ]
    },
    {
     "name": "stdout",
     "output_type": "stream",
     "text": [
      "Model hasn't improved in the last 5 iterations. Training stopped.\n",
      "Max accuracy: 0.9010714292526245\n"
     ]
    },
    {
     "name": "stderr",
     "output_type": "stream",
     "text": [
      "\n"
     ]
    },
    {
     "data": {
      "image/png": "[encoded data removed]",
      "text/plain": [
       "<Figure size 640x480 with 1 Axes>"
      ]
     },
     "metadata": {},
     "output_type": "display_data"
    }
   ],
   "source": [
    "model = ConvNN3_dropout()\n",
    "optimizer_adam = torch.optim.Adam(model.parameters())\n",
    "early_stopping_train(model, loss_fn, optimizer_adam, train_loader=norm_train_loader, val_loader=norm_val_loader)"
   ]
  },
  {
   "cell_type": "markdown",
   "metadata": {},
   "source": [
    "Dropout validační přesnost opět o trochu zlepšil. Také je vidět, že již nedochází k přeučení a validační chyba klesá podobně rychle, jako trénovací.\n",
    "\n",
    "Vyzkouším ještě, jesli přesnost nezvýší použití batch normalizace, kterou použiji mezi všemi vrstvami. Zároveň díky tomu nemusím používat biasy v jednotlivých vrstvách, jelikož ty nahradí transformace při batch normalizaci. Dropout v modelu také ponechám."
   ]
  },
  {
   "cell_type": "code",
   "execution_count": 508,
   "metadata": {},
   "outputs": [],
   "source": [
    "class ConvNN4_batch_norm(nn.Module):\n",
    "    def __init__(self):\n",
    "        super().__init__()\n",
    "        self.conv1 = nn.Conv2d(1, 64, 3, bias=False)\n",
    "        self.norm1 = nn.BatchNorm2d(64)\n",
    "        self.pool1 = nn.MaxPool2d(kernel_size=2)\n",
    "        self.dropout1 = nn.Dropout(0.5)\n",
    "        self.conv2 = nn.Conv2d(64, 32, 3, bias=False)\n",
    "        self.norm2 = nn.BatchNorm2d(32)\n",
    "        self.pool2 = nn.MaxPool2d(kernel_size=2)\n",
    "        self.fc1 = nn.Linear(32*6*6, 256, bias=False)\n",
    "        self.norm3 = nn.BatchNorm1d(256)\n",
    "        self.dropout2 = nn.Dropout(0.5)\n",
    "        self.fc2 = nn.Linear(256, 64, bias=False)\n",
    "        self.norm4 = nn.BatchNorm1d(64)\n",
    "        self.fco = nn.Linear(64, 10)\n",
    "\n",
    "    def forward(self, x):\n",
    "        x = self.conv1(x)\n",
    "        x = F.relu(self.norm1(x))\n",
    "        x = self.pool1(x)\n",
    "        x = self.dropout1(x)\n",
    "        x = self.conv2(x)\n",
    "        x = F.relu(self.norm2(x))\n",
    "        x = self.pool2(x)\n",
    "        x = x.flatten(start_dim = 1)\n",
    "        x = self.fc1(x)\n",
    "        x = F.relu(self.norm3(x))\n",
    "        x = self.dropout2(x)\n",
    "        x = self.fc2(x)\n",
    "        x = F.relu(self.norm4(x))\n",
    "        x = self.fco(x)\n",
    "        return x"
   ]
  },
  {
   "cell_type": "code",
   "execution_count": 510,
   "metadata": {},
   "outputs": [
    {
     "name": "stderr",
     "output_type": "stream",
     "text": [
      "  1%|▍                                        | 1/100 [00:54<1:30:30, 54.85s/it]"
     ]
    },
    {
     "name": "stdout",
     "output_type": "stream",
     "text": [
      "Epoch: 1, TRAIN loss: 0.665, VALIDATION loss: 0.469, ACC: 0.819\n"
     ]
    },
    {
     "name": "stderr",
     "output_type": "stream",
     "text": [
      "  5%|██                                       | 5/100 [04:19<1:21:18, 51.36s/it]"
     ]
    },
    {
     "name": "stdout",
     "output_type": "stream",
     "text": [
      "Epoch: 5, TRAIN loss: 0.362, VALIDATION loss: 0.344, ACC: 0.868\n"
     ]
    },
    {
     "name": "stderr",
     "output_type": "stream",
     "text": [
      " 10%|████                                    | 10/100 [08:37<1:17:07, 51.41s/it]"
     ]
    },
    {
     "name": "stdout",
     "output_type": "stream",
     "text": [
      "Epoch: 10, TRAIN loss: 0.303, VALIDATION loss: 0.273, ACC: 0.900\n"
     ]
    },
    {
     "name": "stderr",
     "output_type": "stream",
     "text": [
      " 15%|██████                                  | 15/100 [12:52<1:12:20, 51.07s/it]"
     ]
    },
    {
     "name": "stdout",
     "output_type": "stream",
     "text": [
      "Epoch: 15, TRAIN loss: 0.271, VALIDATION loss: 0.260, ACC: 0.905\n"
     ]
    },
    {
     "name": "stderr",
     "output_type": "stream",
     "text": [
      " 20%|████████                                | 20/100 [17:08<1:08:22, 51.28s/it]"
     ]
    },
    {
     "name": "stdout",
     "output_type": "stream",
     "text": [
      "Epoch: 20, TRAIN loss: 0.252, VALIDATION loss: 0.254, ACC: 0.908\n"
     ]
    },
    {
     "name": "stderr",
     "output_type": "stream",
     "text": [
      " 25%|██████████                              | 25/100 [21:22<1:03:26, 50.75s/it]"
     ]
    },
    {
     "name": "stdout",
     "output_type": "stream",
     "text": [
      "Epoch: 25, TRAIN loss: 0.232, VALIDATION loss: 0.261, ACC: 0.903\n"
     ]
    },
    {
     "name": "stderr",
     "output_type": "stream",
     "text": [
      " 25%|██████████                              | 25/100 [22:13<1:06:39, 53.32s/it]"
     ]
    },
    {
     "name": "stdout",
     "output_type": "stream",
     "text": [
      "Model hasn't improved in the last 5 iterations. Training stopped.\n",
      "Max accuracy: 0.9092857241630554\n"
     ]
    },
    {
     "name": "stderr",
     "output_type": "stream",
     "text": [
      "\n"
     ]
    },
    {
     "data": {
      "image/png": "[encoded data removed]",
      "text/plain": [
       "<Figure size 640x480 with 1 Axes>"
      ]
     },
     "metadata": {},
     "output_type": "display_data"
    }
   ],
   "source": [
    "model = ConvNN4_batch_norm()\n",
    "optimizer_adam = torch.optim.Adam(model.parameters())\n",
    "early_stopping_train(model, loss_fn, optimizer_adam, train_loader=norm_train_loader, val_loader=norm_val_loader)"
   ]
  },
  {
   "cell_type": "markdown",
   "metadata": {},
   "source": [
    "Batch normalizace také pomohla. Validační přesnost se přiblížila 91%.\n",
    "\n",
    "Otestuji ještě, jestli by nepomohlo použít optimizer `AdamW`, který měl dříve lepší výsledky."
   ]
  },
  {
   "cell_type": "code",
   "execution_count": 511,
   "metadata": {},
   "outputs": [
    {
     "name": "stderr",
     "output_type": "stream",
     "text": [
      "  1%|▍                                        | 1/100 [00:55<1:31:56, 55.72s/it]"
     ]
    },
    {
     "name": "stdout",
     "output_type": "stream",
     "text": [
      "Epoch: 1, TRAIN loss: 0.664, VALIDATION loss: 0.459, ACC: 0.827\n"
     ]
    },
    {
     "name": "stderr",
     "output_type": "stream",
     "text": [
      "  5%|██                                       | 5/100 [04:45<1:31:48, 57.99s/it]"
     ]
    },
    {
     "name": "stdout",
     "output_type": "stream",
     "text": [
      "Epoch: 5, TRAIN loss: 0.371, VALIDATION loss: 0.316, ACC: 0.882\n"
     ]
    },
    {
     "name": "stderr",
     "output_type": "stream",
     "text": [
      " 10%|████                                    | 10/100 [09:36<1:25:07, 56.76s/it]"
     ]
    },
    {
     "name": "stdout",
     "output_type": "stream",
     "text": [
      "Epoch: 10, TRAIN loss: 0.313, VALIDATION loss: 0.277, ACC: 0.894\n"
     ]
    },
    {
     "name": "stderr",
     "output_type": "stream",
     "text": [
      " 15%|██████                                  | 15/100 [14:01<1:15:00, 52.94s/it]"
     ]
    },
    {
     "name": "stdout",
     "output_type": "stream",
     "text": [
      "Epoch: 15, TRAIN loss: 0.280, VALIDATION loss: 0.259, ACC: 0.904\n"
     ]
    },
    {
     "name": "stderr",
     "output_type": "stream",
     "text": [
      " 20%|████████                                | 20/100 [18:22<1:09:35, 52.19s/it]"
     ]
    },
    {
     "name": "stdout",
     "output_type": "stream",
     "text": [
      "Epoch: 20, TRAIN loss: 0.262, VALIDATION loss: 0.256, ACC: 0.908\n"
     ]
    },
    {
     "name": "stderr",
     "output_type": "stream",
     "text": [
      " 25%|██████████                              | 25/100 [23:51<1:23:35, 66.88s/it]"
     ]
    },
    {
     "name": "stdout",
     "output_type": "stream",
     "text": [
      "Epoch: 25, TRAIN loss: 0.245, VALIDATION loss: 0.256, ACC: 0.906\n"
     ]
    },
    {
     "name": "stderr",
     "output_type": "stream",
     "text": [
      " 30%|████████████                            | 30/100 [29:50<1:23:15, 71.36s/it]"
     ]
    },
    {
     "name": "stdout",
     "output_type": "stream",
     "text": [
      "Epoch: 30, TRAIN loss: 0.229, VALIDATION loss: 0.277, ACC: 0.897\n"
     ]
    },
    {
     "name": "stderr",
     "output_type": "stream",
     "text": [
      " 33%|█████████████▏                          | 33/100 [35:37<1:12:18, 64.76s/it]"
     ]
    },
    {
     "name": "stdout",
     "output_type": "stream",
     "text": [
      "Model hasn't improved in the last 5 iterations. Training stopped.\n",
      "Max accuracy: 0.9080952405929565\n"
     ]
    },
    {
     "name": "stderr",
     "output_type": "stream",
     "text": [
      "\n"
     ]
    },
    {
     "data": {
      "image/png": "[encoded data removed]",
      "text/plain": [
       "<Figure size 640x480 with 1 Axes>"
      ]
     },
     "metadata": {},
     "output_type": "display_data"
    }
   ],
   "source": [
    "model = ConvNN4_batch_norm()\n",
    "optimizer_adam = torch.optim.AdamW(model.parameters())\n",
    "early_stopping_train(model, loss_fn, optimizer_adam, train_loader=norm_train_loader, val_loader=norm_val_loader)"
   ]
  },
  {
   "cell_type": "markdown",
   "metadata": {},
   "source": [
    "Změna optimizeru přesnost nezvýšila. Vezmu proto znovu optimizer `Adam` a nejlepší model znovu natrénuji, ale zvýším limity epoch, které trénování ukončují, abych si ověřil, že validační přesnost opravdu ani po delší době nazačne znovu klesat."
   ]
  },
  {
   "cell_type": "code",
   "execution_count": 512,
   "metadata": {},
   "outputs": [
    {
     "name": "stderr",
     "output_type": "stream",
     "text": [
      "  1%|▍                                        | 1/100 [01:20<2:12:01, 80.01s/it]"
     ]
    },
    {
     "name": "stdout",
     "output_type": "stream",
     "text": [
      "Epoch: 1, TRAIN loss: 0.665, VALIDATION loss: 0.407, ACC: 0.845\n"
     ]
    },
    {
     "name": "stderr",
     "output_type": "stream",
     "text": [
      "  5%|██                                       | 5/100 [06:41<2:07:57, 80.82s/it]"
     ]
    },
    {
     "name": "stdout",
     "output_type": "stream",
     "text": [
      "Epoch: 5, TRAIN loss: 0.366, VALIDATION loss: 0.308, ACC: 0.884\n"
     ]
    },
    {
     "name": "stderr",
     "output_type": "stream",
     "text": [
      " 10%|████                                    | 10/100 [11:19<1:26:21, 57.57s/it]"
     ]
    },
    {
     "name": "stdout",
     "output_type": "stream",
     "text": [
      "Epoch: 10, TRAIN loss: 0.308, VALIDATION loss: 0.269, ACC: 0.900\n"
     ]
    },
    {
     "name": "stderr",
     "output_type": "stream",
     "text": [
      " 15%|██████                                  | 15/100 [15:40<1:15:45, 53.48s/it]"
     ]
    },
    {
     "name": "stdout",
     "output_type": "stream",
     "text": [
      "Epoch: 15, TRAIN loss: 0.274, VALIDATION loss: 0.283, ACC: 0.894\n"
     ]
    },
    {
     "name": "stderr",
     "output_type": "stream",
     "text": [
      " 20%|████████                                | 20/100 [20:04<1:11:01, 53.27s/it]"
     ]
    },
    {
     "name": "stdout",
     "output_type": "stream",
     "text": [
      "Epoch: 20, TRAIN loss: 0.250, VALIDATION loss: 0.259, ACC: 0.908\n"
     ]
    },
    {
     "name": "stderr",
     "output_type": "stream",
     "text": [
      " 25%|██████████                              | 25/100 [25:14<1:21:29, 65.20s/it]"
     ]
    },
    {
     "name": "stdout",
     "output_type": "stream",
     "text": [
      "Epoch: 25, TRAIN loss: 0.231, VALIDATION loss: 0.264, ACC: 0.904\n"
     ]
    },
    {
     "name": "stderr",
     "output_type": "stream",
     "text": [
      " 30%|████████████                            | 30/100 [31:53<1:31:50, 78.73s/it]"
     ]
    },
    {
     "name": "stdout",
     "output_type": "stream",
     "text": [
      "Epoch: 30, TRAIN loss: 0.217, VALIDATION loss: 0.254, ACC: 0.910\n"
     ]
    },
    {
     "name": "stderr",
     "output_type": "stream",
     "text": [
      " 35%|██████████████                          | 35/100 [38:53<1:29:26, 82.57s/it]"
     ]
    },
    {
     "name": "stdout",
     "output_type": "stream",
     "text": [
      "Epoch: 35, TRAIN loss: 0.205, VALIDATION loss: 0.255, ACC: 0.910\n"
     ]
    },
    {
     "name": "stderr",
     "output_type": "stream",
     "text": [
      " 40%|████████████████                        | 40/100 [43:53<1:00:18, 60.31s/it]"
     ]
    },
    {
     "name": "stdout",
     "output_type": "stream",
     "text": [
      "Epoch: 40, TRAIN loss: 0.198, VALIDATION loss: 0.259, ACC: 0.911\n"
     ]
    },
    {
     "name": "stderr",
     "output_type": "stream",
     "text": [
      " 45%|██████████████████▉                       | 45/100 [49:06<56:59, 62.18s/it]"
     ]
    },
    {
     "name": "stdout",
     "output_type": "stream",
     "text": [
      "Epoch: 45, TRAIN loss: 0.189, VALIDATION loss: 0.268, ACC: 0.906\n"
     ]
    },
    {
     "name": "stderr",
     "output_type": "stream",
     "text": [
      " 45%|██████████████████                      | 45/100 [49:58<1:01:05, 66.64s/it]"
     ]
    },
    {
     "name": "stdout",
     "output_type": "stream",
     "text": [
      "Model hasn't improved in the last 15 iterations. Training stopped.\n",
      "Max accuracy: 0.9133333563804626\n"
     ]
    },
    {
     "name": "stderr",
     "output_type": "stream",
     "text": [
      "\n"
     ]
    },
    {
     "data": {
      "image/png": "[encoded data removed]",
      "text/plain": [
       "<Figure size 640x480 with 1 Axes>"
      ]
     },
     "metadata": {},
     "output_type": "display_data"
    }
   ],
   "source": [
    "model = ConvNN4_batch_norm()\n",
    "optimizer_adam = torch.optim.Adam(model.parameters())\n",
    "early_stopping_train(model, loss_fn, optimizer_adam, train_loader=norm_train_loader,\n",
    "                     val_loader=norm_val_loader, max_epoch=100, not_improved_limit=15 )"
   ]
  },
  {
   "cell_type": "markdown",
   "metadata": {},
   "source": [
    "Delší trénování pomohlo a validační přesnost se zvýšila na 91,3%. Z grafu je vidět, že trénovací chyba klesá pořád směrem k 0, ale validační od jisté chvíle zůstává pořád na podobném místě. Je možné, že by nějakou další regulazicí šla výsledná validační přesnost ještě o něco zvýšit, ale o to se již pokoušet nebudu a tuto síť použiji jako finální.\n",
    "\n",
    "Načtu si proto nejlepší model a otestuji jeho přesnost na testovacích datech."
   ]
  },
  {
   "cell_type": "code",
   "execution_count": 608,
   "metadata": {},
   "outputs": [
    {
     "name": "stdout",
     "output_type": "stream",
     "text": [
      "Performance on test set: 7658 / 8400\n",
      "With accuracy: 0.912\n"
     ]
    }
   ],
   "source": [
    "#create test loader\n",
    "norm_test_loader = torch.utils.data.DataLoader(norm_test_data, batch_size=128, shuffle=False)\n",
    "\n",
    "#load best model\n",
    "model.load_state_dict(torch.load(MODEL_PATH))\n",
    "\n",
    "#test accuracy\n",
    "correct_count = 0\n",
    "model.eval()\n",
    "\n",
    "with torch.no_grad():\n",
    "    for data, labels in norm_test_loader:\n",
    "        outputs = model(data)\n",
    "        correct_count += (outputs.argmax(1) == labels).float().sum()\n",
    "\n",
    "total_count = len(norm_test_data)\n",
    "print(f\"Performance on test set: {int(correct_count)} / {total_count}\")\n",
    "print(f\"With accuracy: {float(correct_count)/float(total_count):.3f}\") "
   ]
  },
  {
   "cell_type": "markdown",
   "metadata": {},
   "source": [
    "Testovací přesnost vychází také přes 91%. S tím jsem spokojen a napočítám predikce pro data k evaulaci ze souboru `evaluate.csv`."
   ]
  },
  {
   "cell_type": "code",
   "execution_count": 617,
   "metadata": {},
   "outputs": [],
   "source": [
    "#load csv\n",
    "to_eval_df = pd.read_csv('evaluate.csv')"
   ]
  },
  {
   "cell_type": "code",
   "execution_count": 618,
   "metadata": {},
   "outputs": [
    {
     "name": "stdout",
     "output_type": "stream",
     "text": [
      "(14000, 1, 32, 32)\n"
     ]
    }
   ],
   "source": [
    "#to numpy\n",
    "source_IDs = to_eval_df[\"ID\"]\n",
    "source_imgs = to_eval_df.drop(\"ID\", axis=1).to_numpy()\n",
    "#normalization\n",
    "source_imgs = source_imgs/255\n",
    "#reshape\n",
    "source_imgs = source_imgs.reshape(-1, 1, 32, 32)\n",
    "print(source_imgs.shape)"
   ]
  },
  {
   "cell_type": "code",
   "execution_count": 619,
   "metadata": {},
   "outputs": [
    {
     "name": "stdout",
     "output_type": "stream",
     "text": [
      "Number of elements: 14000\n"
     ]
    }
   ],
   "source": [
    "#create pytorch tensor dataset\n",
    "eval_dataset = torch.utils.data.TensorDataset(torch.tensor(source_imgs, dtype = torch.float))\n",
    "print(f\"Number of elements: {len(eval_dataset)}\")"
   ]
  },
  {
   "cell_type": "code",
   "execution_count": 620,
   "metadata": {},
   "outputs": [],
   "source": [
    "#create loader with shuffle disabled so that i load imgs in the right order\n",
    "eval_loader = torch.utils.data.DataLoader(eval_dataset, batch_size=128, shuffle=False)"
   ]
  },
  {
   "cell_type": "code",
   "execution_count": 621,
   "metadata": {},
   "outputs": [],
   "source": [
    "#create dataset for storing results\n",
    "res_df = pd.DataFrame(columns=[\"ID\", \"label\"])"
   ]
  },
  {
   "cell_type": "markdown",
   "metadata": {},
   "source": [
    "Nyní postupně napočítám predikce a uložím je do výsledného dataframe."
   ]
  },
  {
   "cell_type": "code",
   "execution_count": 622,
   "metadata": {},
   "outputs": [],
   "source": [
    "model.eval()\n",
    "ID = 0\n",
    "\n",
    "with torch.no_grad():\n",
    "    for data in eval_loader:\n",
    "        #unpack from list\n",
    "        images = data[0]\n",
    "        outputs = model(images)\n",
    "        for pred in outputs:\n",
    "            label = pred.argmax()\n",
    "            #add row to results\n",
    "            res_df.loc[len(res_df.index)] = [ID, label.item()] \n",
    "            ID += 1"
   ]
  },
  {
   "cell_type": "code",
   "execution_count": 623,
   "metadata": {},
   "outputs": [
    {
     "data": {
      "text/html": [
       "<div>\n",
       "<style scoped>\n",
       "    .dataframe tbody tr th:only-of-type {\n",
       "        vertical-align: middle;\n",
       "    }\n",
       "\n",
       "    .dataframe tbody tr th {\n",
       "        vertical-align: top;\n",
       "    }\n",
       "\n",
       "    .dataframe thead th {\n",
       "        text-align: right;\n",
       "    }\n",
       "</style>\n",
       "<table border=\"1\" class=\"dataframe\">\n",
       "  <thead>\n",
       "    <tr style=\"text-align: right;\">\n",
       "      <th></th>\n",
       "      <th>ID</th>\n",
       "      <th>label</th>\n",
       "    </tr>\n",
       "  </thead>\n",
       "  <tbody>\n",
       "    <tr>\n",
       "      <th>0</th>\n",
       "      <td>0</td>\n",
       "      <td>3</td>\n",
       "    </tr>\n",
       "    <tr>\n",
       "      <th>1</th>\n",
       "      <td>1</td>\n",
       "      <td>3</td>\n",
       "    </tr>\n",
       "    <tr>\n",
       "      <th>2</th>\n",
       "      <td>2</td>\n",
       "      <td>0</td>\n",
       "    </tr>\n",
       "    <tr>\n",
       "      <th>3</th>\n",
       "      <td>3</td>\n",
       "      <td>3</td>\n",
       "    </tr>\n",
       "    <tr>\n",
       "      <th>4</th>\n",
       "      <td>4</td>\n",
       "      <td>5</td>\n",
       "    </tr>\n",
       "    <tr>\n",
       "      <th>...</th>\n",
       "      <td>...</td>\n",
       "      <td>...</td>\n",
       "    </tr>\n",
       "    <tr>\n",
       "      <th>13995</th>\n",
       "      <td>13995</td>\n",
       "      <td>8</td>\n",
       "    </tr>\n",
       "    <tr>\n",
       "      <th>13996</th>\n",
       "      <td>13996</td>\n",
       "      <td>6</td>\n",
       "    </tr>\n",
       "    <tr>\n",
       "      <th>13997</th>\n",
       "      <td>13997</td>\n",
       "      <td>4</td>\n",
       "    </tr>\n",
       "    <tr>\n",
       "      <th>13998</th>\n",
       "      <td>13998</td>\n",
       "      <td>9</td>\n",
       "    </tr>\n",
       "    <tr>\n",
       "      <th>13999</th>\n",
       "      <td>13999</td>\n",
       "      <td>5</td>\n",
       "    </tr>\n",
       "  </tbody>\n",
       "</table>\n",
       "<p>14000 rows × 2 columns</p>\n",
       "</div>"
      ],
      "text/plain": [
       "          ID  label\n",
       "0          0      3\n",
       "1          1      3\n",
       "2          2      0\n",
       "3          3      3\n",
       "4          4      5\n",
       "...      ...    ...\n",
       "13995  13995      8\n",
       "13996  13996      6\n",
       "13997  13997      4\n",
       "13998  13998      9\n",
       "13999  13999      5\n",
       "\n",
       "[14000 rows x 2 columns]"
      ]
     },
     "execution_count": 623,
     "metadata": {},
     "output_type": "execute_result"
    }
   ],
   "source": [
    "res_df"
   ]
  },
  {
   "cell_type": "markdown",
   "metadata": {},
   "source": [
    "Vypadá to, že data mají správnou strukturu, takže je uložím do souboru."
   ]
  },
  {
   "cell_type": "code",
   "execution_count": 624,
   "metadata": {},
   "outputs": [],
   "source": [
    "res_df.to_csv('results.csv', index=False)"
   ]
  },
  {
   "cell_type": "code",
   "execution_count": null,
   "metadata": {},
   "outputs": [],
   "source": []
  }
 ],
 "metadata": {
  "kernelspec": {
   "display_name": "Python 3 (ipykernel)",
   "language": "python",
   "name": "python3"
  },
  "language_info": {
   "codemirror_mode": {
    "name": "ipython",
    "version": 3
   },
   "file_extension": ".py",
   "mimetype": "text/x-python",
   "name": "python",
   "nbconvert_exporter": "python",
   "pygments_lexer": "ipython3",
   "version": "3.9.13"
  }
 },
 "nbformat": 4,
 "nbformat_minor": 4
}
